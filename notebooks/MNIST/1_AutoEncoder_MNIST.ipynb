{
 "cells": [
  {
   "cell_type": "markdown",
   "metadata": {},
   "source": [
    "# 1. AutoEncoder MNIST\n",
    "\n",
    "Reference: https://www.youtube.com/watch?v=CCipk_ZH49I"
   ]
  },
  {
   "cell_type": "markdown",
   "metadata": {},
   "source": [
    "## Input libraries"
   ]
  },
  {
   "cell_type": "code",
   "execution_count": 10,
   "metadata": {},
   "outputs": [],
   "source": [
    "import warnings\n",
    "warnings.filterwarnings('ignore')"
   ]
  },
  {
   "cell_type": "code",
   "execution_count": 11,
   "metadata": {},
   "outputs": [],
   "source": [
    "# TensorFlow\n",
    "import tensorflow as tf"
   ]
  },
  {
   "cell_type": "code",
   "execution_count": 12,
   "metadata": {},
   "outputs": [],
   "source": [
    "# Keras\n",
    "from keras.datasets import mnist\n",
    "\n",
    "from keras.models import Model\n",
    "from keras.layers import Input, Dense"
   ]
  },
  {
   "cell_type": "code",
   "execution_count": 13,
   "metadata": {},
   "outputs": [],
   "source": [
    "# Other Libraries\n",
    "import numpy as np\n",
    "import matplotlib.pyplot as plt"
   ]
  },
  {
   "cell_type": "code",
   "execution_count": 14,
   "metadata": {},
   "outputs": [
    {
     "data": {
      "text/plain": [
       "(60000, 28, 28)"
      ]
     },
     "execution_count": 14,
     "metadata": {},
     "output_type": "execute_result"
    }
   ],
   "source": [
    "(X_train, _), (X_test, _) = mnist.load_data()\n",
    "X_train.shape"
   ]
  },
  {
   "cell_type": "code",
   "execution_count": 15,
   "metadata": {},
   "outputs": [
    {
     "data": {
      "text/plain": [
       "<matplotlib.image.AxesImage at 0x7f44ea380130>"
      ]
     },
     "execution_count": 15,
     "metadata": {},
     "output_type": "execute_result"
    },
    {
     "data": {
      "image/png": "[encoded data removed]",
      "text/plain": [
       "<Figure size 640x480 with 1 Axes>"
      ]
     },
     "metadata": {},
     "output_type": "display_data"
    }
   ],
   "source": [
    "# Visualize one image\n",
    "plt.imshow(X_train[0], cmap='gray')"
   ]
  },
  {
   "cell_type": "markdown",
   "metadata": {},
   "source": [
    "### Preprocess the data"
   ]
  },
  {
   "cell_type": "code",
   "execution_count": 16,
   "metadata": {},
   "outputs": [
    {
     "data": {
      "text/plain": [
       "28"
      ]
     },
     "execution_count": 16,
     "metadata": {},
     "output_type": "execute_result"
    }
   ],
   "source": [
    "X_train[0].shape[0]"
   ]
  },
  {
   "cell_type": "code",
   "execution_count": 17,
   "metadata": {},
   "outputs": [
    {
     "data": {
      "text/plain": [
       "60000"
      ]
     },
     "execution_count": 17,
     "metadata": {},
     "output_type": "execute_result"
    }
   ],
   "source": [
    "X_train.shape[0]"
   ]
  },
  {
   "cell_type": "code",
   "execution_count": 18,
   "metadata": {},
   "outputs": [
    {
     "data": {
      "text/plain": [
       "784"
      ]
     },
     "execution_count": 18,
     "metadata": {},
     "output_type": "execute_result"
    }
   ],
   "source": [
    "28*28"
   ]
  },
  {
   "cell_type": "code",
   "execution_count": 19,
   "metadata": {},
   "outputs": [
    {
     "data": {
      "text/plain": [
       "(60000, 28, 28)"
      ]
     },
     "execution_count": 19,
     "metadata": {},
     "output_type": "execute_result"
    }
   ],
   "source": [
    "X_train.shape"
   ]
  },
  {
   "cell_type": "code",
   "execution_count": 20,
   "metadata": {},
   "outputs": [
    {
     "data": {
      "text/plain": [
       "(10000, 28, 28)"
      ]
     },
     "execution_count": 20,
     "metadata": {},
     "output_type": "execute_result"
    }
   ],
   "source": [
    "X_test.shape"
   ]
  },
  {
   "cell_type": "markdown",
   "metadata": {},
   "source": [
    "x_train contains 60000 images of 28x28 pixels each. Now, we need to flatten the images into vectors of 28x28 = 784 pixels each. The result is that x_train will be a matrix of 6000 x 784 (28*28). We will repeat the same for x_test 10000 x 784 (28*28)."
   ]
  },
  {
   "cell_type": "code",
   "execution_count": 21,
   "metadata": {},
   "outputs": [
    {
     "data": {
      "text/plain": [
       "(60000, 784)"
      ]
     },
     "execution_count": 21,
     "metadata": {},
     "output_type": "execute_result"
    }
   ],
   "source": [
    "# Convert 2D image into 1D vector\n",
    "X_train = X_train.reshape(X_train.shape[0], X_train[0].shape[0]*X_train[0].shape[1])\n",
    "X_train.shape"
   ]
  },
  {
   "cell_type": "code",
   "execution_count": 22,
   "metadata": {},
   "outputs": [
    {
     "data": {
      "text/plain": [
       "(10000, 784)"
      ]
     },
     "execution_count": 22,
     "metadata": {},
     "output_type": "execute_result"
    }
   ],
   "source": [
    "X_test = X_test.reshape(X_test.shape[0], X_test[0].shape[0]*X_test[0].shape[1])\n",
    "X_test.shape"
   ]
  },
  {
   "cell_type": "markdown",
   "metadata": {},
   "source": [
    "Check the amplitude of the values in the x_train and x_test matrices. The values are between 0 and 255. We will normalize the values between 0 and 1 by dividing by 255."
   ]
  },
  {
   "cell_type": "code",
   "execution_count": 23,
   "metadata": {},
   "outputs": [
    {
     "data": {
      "text/plain": [
       "255"
      ]
     },
     "execution_count": 23,
     "metadata": {},
     "output_type": "execute_result"
    }
   ],
   "source": [
    "X_train.max()"
   ]
  },
  {
   "cell_type": "markdown",
   "metadata": {},
   "source": [
    "Normalize the data dividing the dataset by the max number, in this case 255."
   ]
  },
  {
   "cell_type": "code",
   "execution_count": 24,
   "metadata": {},
   "outputs": [],
   "source": [
    "X_train = X_train.astype('float32')/255\n",
    "X_test = X_test.astype('float32')/255"
   ]
  },
  {
   "cell_type": "markdown",
   "metadata": {},
   "source": [
    "Check if the values are between 0 and 1."
   ]
  },
  {
   "cell_type": "code",
   "execution_count": 25,
   "metadata": {},
   "outputs": [
    {
     "data": {
      "text/plain": [
       "1.0"
      ]
     },
     "execution_count": 25,
     "metadata": {},
     "output_type": "execute_result"
    }
   ],
   "source": [
    "X_train.max()"
   ]
  },
  {
   "cell_type": "markdown",
   "metadata": {},
   "source": [
    "## Model"
   ]
  },
  {
   "cell_type": "code",
   "execution_count": 26,
   "metadata": {},
   "outputs": [],
   "source": [
    "# Define Layers\n",
    "input_layer = Input(shape=(X_train.shape[1])) # 784 (28*28)\n",
    "latent_space = Dense(32, activation='relu', name = 'latent_space')(input_layer) # 32\n",
    "output_layer = Dense(X_train.shape[1], activation='sigmoid', name = 'output_layer')(latent_space) # 784 (28*28)"
   ]
  },
  {
   "cell_type": "code",
   "execution_count": 27,
   "metadata": {},
   "outputs": [
    {
     "name": "stdout",
     "output_type": "stream",
     "text": [
      "Model: \"model\"\n",
      "_________________________________________________________________\n",
      " Layer (type)                Output Shape              Param #   \n",
      "=================================================================\n",
      " input_1 (InputLayer)        [(None, 784)]             0         \n",
      "                                                                 \n",
      " latent_space (Dense)        (None, 32)                25120     \n",
      "                                                                 \n",
      " output_layer (Dense)        (None, 784)               25872     \n",
      "                                                                 \n",
      "=================================================================\n",
      "Total params: 50992 (199.19 KB)\n",
      "Trainable params: 50992 (199.19 KB)\n",
      "Non-trainable params: 0 (0.00 Byte)\n",
      "_________________________________________________________________\n"
     ]
    }
   ],
   "source": [
    "# Connect Layers intop the Model\n",
    "autoencoder = Model(input_layer, output_layer)\n",
    "autoencoder.summary()"
   ]
  },
  {
   "cell_type": "code",
   "execution_count": 28,
   "metadata": {},
   "outputs": [
    {
     "name": "stdout",
     "output_type": "stream",
     "text": [
      "Model: \"model_1\"\n",
      "_________________________________________________________________\n",
      " Layer (type)                Output Shape              Param #   \n",
      "=================================================================\n",
      " input_1 (InputLayer)        [(None, 784)]             0         \n",
      "                                                                 \n",
      " latent_space (Dense)        (None, 32)                25120     \n",
      "                                                                 \n",
      "=================================================================\n",
      "Total params: 25120 (98.12 KB)\n",
      "Trainable params: 25120 (98.12 KB)\n",
      "Non-trainable params: 0 (0.00 Byte)\n",
      "_________________________________________________________________\n"
     ]
    }
   ],
   "source": [
    "# Make a independent reference to the encoder part of the model\n",
    "encoder = Model(input_layer, latent_space)\n",
    "encoder.summary()"
   ]
  },
  {
   "cell_type": "code",
   "execution_count": 29,
   "metadata": {},
   "outputs": [],
   "source": [
    "# Make a independent reference to the decoder part of the model\n",
    "encoded_layer = Input(shape=(32,), name='encoded_layer')\n",
    "decoder_layer = autoencoder.layers[-1]\n",
    "decoder = Model(encoded_layer, decoder_layer(encoded_layer))"
   ]
  },
  {
   "cell_type": "code",
   "execution_count": 30,
   "metadata": {},
   "outputs": [],
   "source": [
    "# Compile the model using MSE loss and Adam Optimizer\n",
    "autoencoder.compile(loss='mse', optimizer='adam')"
   ]
  },
  {
   "cell_type": "code",
   "execution_count": 31,
   "metadata": {},
   "outputs": [
    {
     "name": "stdout",
     "output_type": "stream",
     "text": [
      "Epoch 1/50\n",
      "469/469 [==============================] - 5s 3ms/step - loss: 0.0546\n",
      "Epoch 2/50\n",
      "469/469 [==============================] - 1s 3ms/step - loss: 0.0261\n",
      "Epoch 3/50\n",
      "469/469 [==============================] - 1s 3ms/step - loss: 0.0189\n",
      "Epoch 4/50\n",
      "469/469 [==============================] - 2s 3ms/step - loss: 0.0152\n",
      "Epoch 5/50\n",
      "469/469 [==============================] - 2s 3ms/step - loss: 0.0132\n",
      "Epoch 6/50\n",
      "469/469 [==============================] - 1s 3ms/step - loss: 0.0121\n",
      "Epoch 7/50\n",
      "469/469 [==============================] - 1s 3ms/step - loss: 0.0115\n",
      "Epoch 8/50\n",
      "469/469 [==============================] - 2s 3ms/step - loss: 0.0112\n",
      "Epoch 9/50\n",
      "469/469 [==============================] - 2s 3ms/step - loss: 0.0110\n",
      "Epoch 10/50\n",
      "469/469 [==============================] - 2s 3ms/step - loss: 0.0109\n",
      "Epoch 11/50\n",
      "469/469 [==============================] - 2s 4ms/step - loss: 0.0108\n",
      "Epoch 12/50\n",
      "469/469 [==============================] - 2s 3ms/step - loss: 0.0107\n",
      "Epoch 13/50\n",
      "469/469 [==============================] - 1s 3ms/step - loss: 0.0107\n",
      "Epoch 14/50\n",
      "469/469 [==============================] - 1s 3ms/step - loss: 0.0106\n",
      "Epoch 15/50\n",
      "469/469 [==============================] - 2s 3ms/step - loss: 0.0106\n",
      "Epoch 16/50\n",
      "469/469 [==============================] - 2s 3ms/step - loss: 0.0105\n",
      "Epoch 17/50\n",
      "469/469 [==============================] - 2s 3ms/step - loss: 0.0105\n",
      "Epoch 18/50\n",
      "469/469 [==============================] - 2s 3ms/step - loss: 0.0105\n",
      "Epoch 19/50\n",
      "469/469 [==============================] - 2s 3ms/step - loss: 0.0105\n",
      "Epoch 20/50\n",
      "469/469 [==============================] - 1s 3ms/step - loss: 0.0105\n",
      "Epoch 21/50\n",
      "469/469 [==============================] - 1s 3ms/step - loss: 0.0104\n",
      "Epoch 22/50\n",
      "469/469 [==============================] - 1s 3ms/step - loss: 0.0104\n",
      "Epoch 23/50\n",
      "469/469 [==============================] - 1s 3ms/step - loss: 0.0104\n",
      "Epoch 24/50\n",
      "469/469 [==============================] - 1s 3ms/step - loss: 0.0104\n",
      "Epoch 25/50\n",
      "469/469 [==============================] - 1s 3ms/step - loss: 0.0104\n",
      "Epoch 26/50\n",
      "469/469 [==============================] - 1s 3ms/step - loss: 0.0104\n",
      "Epoch 27/50\n",
      "469/469 [==============================] - 2s 3ms/step - loss: 0.0104\n",
      "Epoch 28/50\n",
      "469/469 [==============================] - 1s 3ms/step - loss: 0.0103\n",
      "Epoch 29/50\n",
      "469/469 [==============================] - 1s 3ms/step - loss: 0.0103\n",
      "Epoch 30/50\n",
      "469/469 [==============================] - 2s 3ms/step - loss: 0.0103\n",
      "Epoch 31/50\n",
      "469/469 [==============================] - 1s 3ms/step - loss: 0.0103\n",
      "Epoch 32/50\n",
      "469/469 [==============================] - 2s 4ms/step - loss: 0.0103\n",
      "Epoch 33/50\n",
      "469/469 [==============================] - 2s 4ms/step - loss: 0.0103\n",
      "Epoch 34/50\n",
      "469/469 [==============================] - 2s 4ms/step - loss: 0.0103\n",
      "Epoch 35/50\n",
      "469/469 [==============================] - 2s 4ms/step - loss: 0.0103\n",
      "Epoch 36/50\n",
      "469/469 [==============================] - 1s 3ms/step - loss: 0.0103\n",
      "Epoch 37/50\n",
      "469/469 [==============================] - 2s 3ms/step - loss: 0.0103\n",
      "Epoch 38/50\n",
      "469/469 [==============================] - 1s 3ms/step - loss: 0.0102\n",
      "Epoch 39/50\n",
      "469/469 [==============================] - 2s 3ms/step - loss: 0.0102\n",
      "Epoch 40/50\n",
      "469/469 [==============================] - 2s 4ms/step - loss: 0.0102\n",
      "Epoch 41/50\n",
      "469/469 [==============================] - 2s 4ms/step - loss: 0.0102\n",
      "Epoch 42/50\n",
      "469/469 [==============================] - 2s 4ms/step - loss: 0.0102\n",
      "Epoch 43/50\n",
      "469/469 [==============================] - 2s 4ms/step - loss: 0.0102\n",
      "Epoch 44/50\n",
      "469/469 [==============================] - 2s 4ms/step - loss: 0.0102\n",
      "Epoch 45/50\n",
      "469/469 [==============================] - 2s 4ms/step - loss: 0.0102\n",
      "Epoch 46/50\n",
      "469/469 [==============================] - 2s 3ms/step - loss: 0.0102\n",
      "Epoch 47/50\n",
      "469/469 [==============================] - 2s 3ms/step - loss: 0.0102\n",
      "Epoch 48/50\n",
      "469/469 [==============================] - 1s 3ms/step - loss: 0.0102\n",
      "Epoch 49/50\n",
      "469/469 [==============================] - 2s 3ms/step - loss: 0.0102\n",
      "Epoch 50/50\n",
      "469/469 [==============================] - 2s 3ms/step - loss: 0.0102\n"
     ]
    }
   ],
   "source": [
    "# Fit training data to the model\n",
    "history = autoencoder.fit(X_train, X_train, epochs=50, batch_size=128)"
   ]
  },
  {
   "cell_type": "code",
   "execution_count": 32,
   "metadata": {},
   "outputs": [
    {
     "data": {
      "text/plain": [
       "[<matplotlib.lines.Line2D at 0x7f43c81c79d0>]"
      ]
     },
     "execution_count": 32,
     "metadata": {},
     "output_type": "execute_result"
    },
    {
     "data": {
      "image/png": "[encoded data removed]",
      "text/plain": [
       "<Figure size 640x480 with 1 Axes>"
      ]
     },
     "metadata": {},
     "output_type": "display_data"
    }
   ],
   "source": [
    "# Plot the training loss\n",
    "plt.plot(history.history['loss'])"
   ]
  },
  {
   "cell_type": "code",
   "execution_count": 34,
   "metadata": {},
   "outputs": [
    {
     "name": "stdout",
     "output_type": "stream",
     "text": [
      "20/20 [==============================] - 0s 2ms/step\n"
     ]
    },
    {
     "data": {
      "text/plain": [
       "(10000, 32)"
      ]
     },
     "execution_count": 34,
     "metadata": {},
     "output_type": "execute_result"
    }
   ],
   "source": [
    "# Reconstruction \n",
    "encoded_data = encoder.predict(X_test, batch_size=512)\n",
    "encoded_data.shape"
   ]
  },
  {
   "cell_type": "code",
   "execution_count": 35,
   "metadata": {},
   "outputs": [
    {
     "name": "stdout",
     "output_type": "stream",
     "text": [
      "20/20 [==============================] - 0s 1ms/step\n"
     ]
    },
    {
     "data": {
      "text/plain": [
       "(10000, 784)"
      ]
     },
     "execution_count": 35,
     "metadata": {},
     "output_type": "execute_result"
    }
   ],
   "source": [
    "# Reconstruct Output\n",
    "output_data = decoder.predict(encoded_data,  batch_size=512)\n",
    "output_data.shape"
   ]
  },
  {
   "cell_type": "code",
   "execution_count": 36,
   "metadata": {},
   "outputs": [
    {
     "data": {
      "text/plain": [
       "(10000, 28, 28)"
      ]
     },
     "execution_count": 36,
     "metadata": {},
     "output_type": "execute_result"
    }
   ],
   "source": [
    "# Re-shape the test data\n",
    "X_test = X_test.reshape(X_test.shape[0], 28, 28)\n",
    "X_test.shape"
   ]
  },
  {
   "cell_type": "code",
   "execution_count": 37,
   "metadata": {},
   "outputs": [
    {
     "data": {
      "text/plain": [
       "(10000, 28, 28)"
      ]
     },
     "execution_count": 37,
     "metadata": {},
     "output_type": "execute_result"
    }
   ],
   "source": [
    "# Re-shape the output data into a 28 x 28 pixel image\n",
    "output_data = output_data.reshape(output_data.shape[0], 28, 28)\n",
    "output_data.shape"
   ]
  },
  {
   "cell_type": "code",
   "execution_count": 38,
   "metadata": {},
   "outputs": [
    {
     "data": {
      "text/plain": [
       "<matplotlib.image.AxesImage at 0x7f44c5254220>"
      ]
     },
     "execution_count": 38,
     "metadata": {},
     "output_type": "execute_result"
    },
    {
     "data": {
      "image/png": "[encoded data removed]",
      "text/plain": [
       "<Figure size 640x480 with 1 Axes>"
      ]
     },
     "metadata": {},
     "output_type": "display_data"
    }
   ],
   "source": [
    "plt.imshow(output_data[0], cmap='gray')"
   ]
  },
  {
   "cell_type": "code",
   "execution_count": 39,
   "metadata": {},
   "outputs": [
    {
     "data": {
      "text/plain": [
       "<matplotlib.image.AxesImage at 0x7f44ea979db0>"
      ]
     },
     "execution_count": 39,
     "metadata": {},
     "output_type": "execute_result"
    },
    {
     "data": {
      "image/png": "[encoded data removed]",
      "text/plain": [
       "<Figure size 640x480 with 1 Axes>"
      ]
     },
     "metadata": {},
     "output_type": "display_data"
    }
   ],
   "source": [
    "# Show test image\n",
    "plt.imshow(X_test[0], cmap='gray')"
   ]
  },
  {
   "cell_type": "code",
   "execution_count": 40,
   "metadata": {},
   "outputs": [
    {
     "data": {
      "image/png": "[encoded data removed]",
      "text/plain": [
       "<Figure size 1500x1500 with 3 Axes>"
      ]
     },
     "metadata": {},
     "output_type": "display_data"
    }
   ],
   "source": [
    "# Create a 1 row 3 column grid plot, where the 1st image is the test, 2nd is the output and 3rd is the difference between the two\n",
    "fig, axes = plt.subplots(1, 3, figsize=(15, 15))\n",
    "axes[0].imshow(X_test[0], cmap='gray')\n",
    "axes[1].imshow(output_data[0], cmap='gray')\n",
    "axes[2].imshow(X_test[0] - output_data[0], cmap='gray')\n",
    "plt.show()"
   ]
  },
  {
   "cell_type": "code",
   "execution_count": null,
   "metadata": {},
   "outputs": [],
   "source": []
  }
 ],
 "metadata": {
  "kernelspec": {
   "display_name": "seismicDenoisingAutoEncoder",
   "language": "python",
   "name": "python3"
  },
  "language_info": {
   "codemirror_mode": {
    "name": "ipython",
    "version": 3
   },
   "file_extension": ".py",
   "mimetype": "text/x-python",
   "name": "python",
   "nbconvert_exporter": "python",
   "pygments_lexer": "ipython3",
   "version": "3.10.12"
  },
  "orig_nbformat": 4
 },
 "nbformat": 4,
 "nbformat_minor": 2
}
