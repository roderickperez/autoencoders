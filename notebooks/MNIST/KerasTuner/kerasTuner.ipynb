{
 "cells": [
  {
   "cell_type": "code",
   "execution_count": 41,
   "metadata": {},
   "outputs": [],
   "source": [
    "import warnings\n",
    "warnings.filterwarnings('ignore')"
   ]
  },
  {
   "cell_type": "code",
   "execution_count": 42,
   "metadata": {},
   "outputs": [],
   "source": [
    "import matplotlib.pyplot as plt\n",
    "import time"
   ]
  },
  {
   "cell_type": "code",
   "execution_count": 43,
   "metadata": {},
   "outputs": [],
   "source": [
    "# Keras\n",
    "import tensorflow as tf\n",
    "from tensorflow import keras\n",
    "from tensorflow.keras import layers\n",
    "\n",
    "# Keras Tuner\n",
    "import keras_tuner as kt\n",
    "from kerastuner.tuners import RandomSearch"
   ]
  },
  {
   "cell_type": "code",
   "execution_count": 44,
   "metadata": {},
   "outputs": [
    {
     "name": "stdout",
     "output_type": "stream",
     "text": [
      "(60000, 28, 28) (10000, 28, 28)\n"
     ]
    }
   ],
   "source": [
    "# Load Dataset\n",
    "mnist = tf.keras.datasets.mnist\n",
    "(x_train, y_train), (x_test, y_test) = mnist.load_data()\n",
    "x_train, x_test= x_train / 255.0, x_test / 255.0\n",
    "print(x_train.shape, x_test.shape)\n",
    "## Define Early Stopping\n",
    "stop_early = tf.keras.callbacks.EarlyStopping(monitor='val_loss', patience=5)"
   ]
  },
  {
   "cell_type": "code",
   "execution_count": 61,
   "metadata": {},
   "outputs": [],
   "source": [
    "# Build Model\n",
    "def build_model4(hp):\n",
    "    model4 = tf.keras.Sequential([\n",
    "        keras.layers.Conv2D(\n",
    "            filters = hp.Int('conv_1_filter', min_value=32, max_value=128, step=16),\n",
    "            kernel_size = hp.Choice('conv_1_kernel', values = [3,5]),\n",
    "            activation = 'relu',\n",
    "            input_shape = (28,28,1)\n",
    "        ),\n",
    "        keras.layers.Conv2D(\n",
    "            filters = hp.Int('conv_2_filter', min_value=32, max_value=64, step=16),\n",
    "            kernel_size = hp.Choice('conv_2_kernel', values = [3,5]),\n",
    "            activation = 'relu'\n",
    "        ),\n",
    "        keras.layers.Flatten(),\n",
    "        keras.layers.Dense(\n",
    "            units = hp.Int('dense_1_units', min_value=32, max_value=128, step=16),\n",
    "            activation = 'relu'\n",
    "        ),\n",
    "        keras.layers.Dense(10, activation='softmax')\n",
    "    ])\n",
    "\n",
    "    model4.compile(optimizer=keras.optimizers.Adam(hp.Choice('learning_rate', values=[1e-2, 1e-3])),\n",
    "                loss='sparse_categorical_crossentropy',\n",
    "                metrics=['accuracy'])\n",
    "    \n",
    "    return model4"
   ]
  },
  {
   "cell_type": "code",
   "execution_count": 62,
   "metadata": {},
   "outputs": [
    {
     "name": "stdout",
     "output_type": "stream",
     "text": [
      "INFO:tensorflow:Reloading Tuner from KerasTuner/output/MNIST_KerasTuner4/tuner0.json\n"
     ]
    }
   ],
   "source": [
    "tuner4 = kt.Hyperband(\n",
    "    build_model4,\n",
    "    objective='val_accuracy',\n",
    "    max_epochs=5,\n",
    "    factor=3,\n",
    "    directory='KerasTuner/output',\n",
    "    project_name='MNIST_KerasTuner4'\n",
    ")"
   ]
  },
  {
   "cell_type": "code",
   "execution_count": 63,
   "metadata": {},
   "outputs": [
    {
     "name": "stdout",
     "output_type": "stream",
     "text": [
      "Search space summary\n",
      "Default search space size: 6\n",
      "activation (Choice)\n",
      "{'default': 'relu', 'conditions': [], 'values': ['relu', 'tanh'], 'ordered': False}\n",
      "learning_rate (Choice)\n",
      "{'default': 0.001, 'conditions': [], 'values': [0.001, 0.0001], 'ordered': True}\n",
      "filters (Choice)\n",
      "{'default': 32, 'conditions': [], 'values': [32, 64], 'ordered': True}\n",
      "kernel_size (Choice)\n",
      "{'default': 3, 'conditions': [], 'values': [3, 5], 'ordered': True}\n",
      "dense_units (Choice)\n",
      "{'default': 64, 'conditions': [], 'values': [64, 128, 256], 'ordered': True}\n",
      "layers (Int)\n",
      "{'default': None, 'conditions': [], 'min_value': 2, 'max_value': 6, 'step': 1, 'sampling': 'linear'}\n"
     ]
    }
   ],
   "source": [
    "tuner4.search_space_summary()"
   ]
  },
  {
   "cell_type": "code",
   "execution_count": 65,
   "metadata": {},
   "outputs": [
    {
     "name": "stdout",
     "output_type": "stream",
     "text": [
      "INFO:tensorflow:Oracle triggered exit\n",
      "Execution Time (Hyperband):  0.001871347427368164  seconds\n"
     ]
    }
   ],
   "source": [
    "# Measure the execution time for hyperparameter tuning\n",
    "start_time = time.time()\n",
    "tuner4.search(x_train, y_train,\n",
    "             epochs=5,\n",
    "             validation_data=(x_test, y_test),\n",
    "             callbacks=[stop_early])\n",
    "\n",
    "end_time = time.time()\n",
    "\n",
    "exec_time4= end_time - start_time\n",
    "print(\"Execution Time (Hyperband): \", exec_time4, \" seconds\")"
   ]
  },
  {
   "cell_type": "code",
   "execution_count": 66,
   "metadata": {},
   "outputs": [
    {
     "name": "stdout",
     "output_type": "stream",
     "text": [
      "Results summary\n",
      "Results in KerasTuner/output/MNIST_KerasTuner4\n",
      "Showing 10 best trials\n",
      "Objective(name=\"val_accuracy\", direction=\"max\")\n",
      "\n",
      "Trial 0006 summary\n",
      "Hyperparameters:\n",
      "activation: tanh\n",
      "learning_rate: 0.001\n",
      "filters: 64\n",
      "kernel_size: 3\n",
      "dense_units: 128\n",
      "layers: 3\n",
      "conv_1_filter: 128\n",
      "conv_1_kernel: 3\n",
      "conv_2_filter: 64\n",
      "conv_2_kernel: 5\n",
      "dense_1_units: 64\n",
      "tuner/epochs: 5\n",
      "tuner/initial_epoch: 0\n",
      "tuner/bracket: 0\n",
      "tuner/round: 0\n",
      "Score: 0.9896000027656555\n",
      "\n",
      "Trial 0005 summary\n",
      "Hyperparameters:\n",
      "activation: relu\n",
      "learning_rate: 0.0001\n",
      "filters: 64\n",
      "kernel_size: 3\n",
      "dense_units: 128\n",
      "layers: 4\n",
      "conv_1_filter: 48\n",
      "conv_1_kernel: 3\n",
      "conv_2_filter: 48\n",
      "conv_2_kernel: 3\n",
      "dense_1_units: 128\n",
      "tuner/epochs: 5\n",
      "tuner/initial_epoch: 0\n",
      "tuner/bracket: 0\n",
      "tuner/round: 0\n",
      "Score: 0.9886000156402588\n",
      "\n",
      "Trial 0007 summary\n",
      "Hyperparameters:\n",
      "activation: tanh\n",
      "learning_rate: 0.0001\n",
      "filters: 32\n",
      "kernel_size: 5\n",
      "dense_units: 64\n",
      "layers: 2\n",
      "conv_1_filter: 32\n",
      "conv_1_kernel: 5\n",
      "conv_2_filter: 48\n",
      "conv_2_kernel: 3\n",
      "dense_1_units: 112\n",
      "tuner/epochs: 5\n",
      "tuner/initial_epoch: 0\n",
      "tuner/bracket: 0\n",
      "tuner/round: 0\n",
      "Score: 0.9884999990463257\n",
      "\n",
      "Trial 0003 summary\n",
      "Hyperparameters:\n",
      "activation: tanh\n",
      "learning_rate: 0.0001\n",
      "filters: 32\n",
      "kernel_size: 3\n",
      "dense_units: 64\n",
      "layers: 2\n",
      "conv_1_filter: 112\n",
      "conv_1_kernel: 5\n",
      "conv_2_filter: 64\n",
      "conv_2_kernel: 5\n",
      "dense_1_units: 96\n",
      "tuner/epochs: 2\n",
      "tuner/initial_epoch: 0\n",
      "tuner/bracket: 1\n",
      "tuner/round: 0\n",
      "Score: 0.9876000285148621\n",
      "\n",
      "Trial 0004 summary\n",
      "Hyperparameters:\n",
      "activation: relu\n",
      "learning_rate: 0.0001\n",
      "filters: 32\n",
      "kernel_size: 5\n",
      "dense_units: 128\n",
      "layers: 6\n",
      "conv_1_filter: 112\n",
      "conv_1_kernel: 5\n",
      "conv_2_filter: 48\n",
      "conv_2_kernel: 3\n",
      "dense_1_units: 80\n",
      "tuner/epochs: 2\n",
      "tuner/initial_epoch: 0\n",
      "tuner/bracket: 1\n",
      "tuner/round: 0\n",
      "Score: 0.98580002784729\n",
      "\n",
      "Trial 0002 summary\n",
      "Hyperparameters:\n",
      "activation: relu\n",
      "learning_rate: 0.0001\n",
      "filters: 64\n",
      "kernel_size: 3\n",
      "dense_units: 64\n",
      "layers: 4\n",
      "tuner/epochs: 2\n",
      "tuner/initial_epoch: 0\n",
      "tuner/bracket: 1\n",
      "tuner/round: 0\n",
      "conv_1_filter: 32\n",
      "conv_1_kernel: 3\n",
      "conv_2_filter: 32\n",
      "conv_2_kernel: 3\n",
      "dense_1_units: 32\n",
      "Score: 0.9797999858856201\n",
      "\n",
      "Trial 0001 summary\n",
      "Hyperparameters:\n",
      "activation: relu\n",
      "learning_rate: 0.001\n",
      "filters: 32\n",
      "kernel_size: 5\n",
      "dense_units: 256\n",
      "layers: 2\n",
      "tuner/epochs: 2\n",
      "tuner/initial_epoch: 0\n",
      "tuner/bracket: 1\n",
      "tuner/round: 0\n",
      "Traceback (most recent call last):\n",
      "  File \"/home/roderickperez/.local/lib/python3.10/site-packages/keras_tuner/engine/base_tuner.py\", line 270, in _try_run_and_update_trial\n",
      "    self._run_and_update_trial(trial, *fit_args, **fit_kwargs)\n",
      "  File \"/home/roderickperez/.local/lib/python3.10/site-packages/keras_tuner/engine/base_tuner.py\", line 235, in _run_and_update_trial\n",
      "    results = self.run_trial(trial, *fit_args, **fit_kwargs)\n",
      "  File \"/home/roderickperez/.local/lib/python3.10/site-packages/keras_tuner/tuners/hyperband.py\", line 425, in run_trial\n",
      "    return super().run_trial(trial, *fit_args, **fit_kwargs)\n",
      "  File \"/home/roderickperez/.local/lib/python3.10/site-packages/keras_tuner/engine/tuner.py\", line 287, in run_trial\n",
      "    obj_value = self._build_and_fit_model(trial, *args, **copied_kwargs)\n",
      "  File \"/home/roderickperez/.local/lib/python3.10/site-packages/keras_tuner/engine/tuner.py\", line 214, in _build_and_fit_model\n",
      "    results = self.hypermodel.fit(hp, model, *args, **kwargs)\n",
      "  File \"/home/roderickperez/.local/lib/python3.10/site-packages/keras_tuner/engine/hypermodel.py\", line 144, in fit\n",
      "    return model.fit(*args, **kwargs)\n",
      "  File \"/usr/lib/python3/dist-packages/keras/utils/traceback_utils.py\", line 70, in error_handler\n",
      "    raise e.with_traceback(filtered_tb) from None\n",
      "  File \"/tmp/__autograph_generated_filevhzlhbb5.py\", line 15, in tf__train_function\n",
      "    retval_ = ag__.converted_call(ag__.ld(step_function), (ag__.ld(self), ag__.ld(iterator)), None, fscope)\n",
      "ValueError: in user code:\n",
      "\n",
      "    File \"/usr/lib/python3/dist-packages/keras/engine/training.py\", line 1338, in train_function  *\n",
      "        return step_function(self, iterator)\n",
      "    File \"/usr/lib/python3/dist-packages/keras/engine/training.py\", line 1322, in step_function  **\n",
      "        outputs = model.distribute_strategy.run(run_step, args=(data,))\n",
      "    File \"/usr/lib/python3/dist-packages/keras/engine/training.py\", line 1303, in run_step  **\n",
      "        outputs = model.train_step(data)\n",
      "    File \"/usr/lib/python3/dist-packages/keras/engine/training.py\", line 1080, in train_step\n",
      "        y_pred = self(x, training=True)\n",
      "    File \"/usr/lib/python3/dist-packages/keras/utils/traceback_utils.py\", line 70, in error_handler\n",
      "        raise e.with_traceback(filtered_tb) from None\n",
      "    File \"/usr/lib/python3/dist-packages/keras/engine/input_spec.py\", line 253, in assert_input_compatibility\n",
      "        raise ValueError(\n",
      "\n",
      "    ValueError: Exception encountered when calling layer 'sequential' (type Sequential).\n",
      "    \n",
      "    Input 0 of layer \"conv2d\" is incompatible with the layer: expected min_ndim=4, found ndim=3. Full shape received: (32, 28, 28)\n",
      "    \n",
      "    Call arguments received by layer 'sequential' (type Sequential):\n",
      "      • inputs=tf.Tensor(shape=(32, 28, 28), dtype=float32)\n",
      "      • training=True\n",
      "      • mask=None\n",
      "\n",
      "\n",
      "\n",
      "Trial 0000 summary\n",
      "Hyperparameters:\n",
      "activation: relu\n",
      "learning_rate: 0.0001\n",
      "filters: 64\n",
      "kernel_size: 3\n",
      "dense_units: 64\n",
      "layers: 2\n",
      "tuner/epochs: 2\n",
      "tuner/initial_epoch: 0\n",
      "tuner/bracket: 1\n",
      "tuner/round: 0\n",
      "Traceback (most recent call last):\n",
      "  File \"/home/roderickperez/.local/lib/python3.10/site-packages/keras_tuner/engine/base_tuner.py\", line 270, in _try_run_and_update_trial\n",
      "    self._run_and_update_trial(trial, *fit_args, **fit_kwargs)\n",
      "  File \"/home/roderickperez/.local/lib/python3.10/site-packages/keras_tuner/engine/base_tuner.py\", line 235, in _run_and_update_trial\n",
      "    results = self.run_trial(trial, *fit_args, **fit_kwargs)\n",
      "  File \"/home/roderickperez/.local/lib/python3.10/site-packages/keras_tuner/tuners/hyperband.py\", line 425, in run_trial\n",
      "    return super().run_trial(trial, *fit_args, **fit_kwargs)\n",
      "  File \"/home/roderickperez/.local/lib/python3.10/site-packages/keras_tuner/engine/tuner.py\", line 287, in run_trial\n",
      "    obj_value = self._build_and_fit_model(trial, *args, **copied_kwargs)\n",
      "  File \"/home/roderickperez/.local/lib/python3.10/site-packages/keras_tuner/engine/tuner.py\", line 214, in _build_and_fit_model\n",
      "    results = self.hypermodel.fit(hp, model, *args, **kwargs)\n",
      "  File \"/home/roderickperez/.local/lib/python3.10/site-packages/keras_tuner/engine/hypermodel.py\", line 144, in fit\n",
      "    return model.fit(*args, **kwargs)\n",
      "  File \"/usr/lib/python3/dist-packages/keras/utils/traceback_utils.py\", line 70, in error_handler\n",
      "    raise e.with_traceback(filtered_tb) from None\n",
      "  File \"/tmp/__autograph_generated_filevhzlhbb5.py\", line 15, in tf__train_function\n",
      "    retval_ = ag__.converted_call(ag__.ld(step_function), (ag__.ld(self), ag__.ld(iterator)), None, fscope)\n",
      "ValueError: in user code:\n",
      "\n",
      "    File \"/usr/lib/python3/dist-packages/keras/engine/training.py\", line 1338, in train_function  *\n",
      "        return step_function(self, iterator)\n",
      "    File \"/usr/lib/python3/dist-packages/keras/engine/training.py\", line 1322, in step_function  **\n",
      "        outputs = model.distribute_strategy.run(run_step, args=(data,))\n",
      "    File \"/usr/lib/python3/dist-packages/keras/engine/training.py\", line 1303, in run_step  **\n",
      "        outputs = model.train_step(data)\n",
      "    File \"/usr/lib/python3/dist-packages/keras/engine/training.py\", line 1080, in train_step\n",
      "        y_pred = self(x, training=True)\n",
      "    File \"/usr/lib/python3/dist-packages/keras/utils/traceback_utils.py\", line 70, in error_handler\n",
      "        raise e.with_traceback(filtered_tb) from None\n",
      "    File \"/usr/lib/python3/dist-packages/keras/engine/input_spec.py\", line 253, in assert_input_compatibility\n",
      "        raise ValueError(\n",
      "\n",
      "    ValueError: Exception encountered when calling layer 'sequential' (type Sequential).\n",
      "    \n",
      "    Input 0 of layer \"conv2d\" is incompatible with the layer: expected min_ndim=4, found ndim=3. Full shape received: (32, 28, 28)\n",
      "    \n",
      "    Call arguments received by layer 'sequential' (type Sequential):\n",
      "      • inputs=tf.Tensor(shape=(32, 28, 28), dtype=float32)\n",
      "      • training=True\n",
      "      • mask=None\n",
      "\n",
      "\n"
     ]
    }
   ],
   "source": [
    "tuner4.results_summary()"
   ]
  },
  {
   "cell_type": "code",
   "execution_count": 67,
   "metadata": {},
   "outputs": [
    {
     "name": "stdout",
     "output_type": "stream",
     "text": [
      "Epoch 1/5\n",
      "1500/1500 [==============================] - 10s 6ms/step - loss: 0.1124 - accuracy: 0.9656 - val_loss: 0.0560 - val_accuracy: 0.9837\n",
      "Epoch 2/5\n",
      "1500/1500 [==============================] - 9s 6ms/step - loss: 0.0385 - accuracy: 0.9879 - val_loss: 0.0428 - val_accuracy: 0.9863\n",
      "Epoch 3/5\n",
      "1500/1500 [==============================] - 12s 8ms/step - loss: 0.0240 - accuracy: 0.9924 - val_loss: 0.0463 - val_accuracy: 0.9874\n",
      "Epoch 4/5\n",
      "1500/1500 [==============================] - 20s 13ms/step - loss: 0.0142 - accuracy: 0.9951 - val_loss: 0.0667 - val_accuracy: 0.9847\n",
      "Epoch 5/5\n",
      "1500/1500 [==============================] - 20s 13ms/step - loss: 0.0122 - accuracy: 0.9962 - val_loss: 0.0585 - val_accuracy: 0.9871\n"
     ]
    }
   ],
   "source": [
    "best_hps4 = tuner4.get_best_hyperparameters(num_trials=1)[0]\n",
    "## Build the model with the best hyperparameters\n",
    "\n",
    "model4 = tuner4.hypermodel.build(best_hps4)\n",
    "history4 = model4.fit(x_train, y_train,epochs=5, validation_split=0.2, callbacks=[stop_early])"
   ]
  },
  {
   "cell_type": "code",
   "execution_count": 68,
   "metadata": {},
   "outputs": [
    {
     "data": {
      "image/png": "[encoded data removed]",
      "text/plain": [
       "<Figure size 640x480 with 1 Axes>"
      ]
     },
     "metadata": {},
     "output_type": "display_data"
    }
   ],
   "source": [
    "# Plot the learning curves for training and validation accuracy/loss for the best model\n",
    "plt.plot(history4.history['accuracy'], label='accuracy')\n",
    "plt.plot(history4.history['val_accuracy'], label = 'val_accuracy')\n",
    "plt.xlabel('Epoch')\n",
    "plt.ylabel('Accuracy/Loss')\n",
    "plt.ylim([0.5, 1])\n",
    "plt.legend(loc='lower right')\n",
    "plt.title('Best Model | Random Search {}'.format(exec_time4))\n",
    "plt.show()"
   ]
  },
  {
   "cell_type": "code",
   "execution_count": 69,
   "metadata": {},
   "outputs": [
    {
     "data": {
      "image/png": "[encoded data removed]",
      "text/plain": [
       "<Figure size 640x480 with 1 Axes>"
      ]
     },
     "metadata": {},
     "output_type": "display_data"
    }
   ],
   "source": [
    "# Plot the loss for the best model\n",
    "plt.plot(history4.history['loss'], label='loss')\n",
    "plt.plot(history4.history['val_loss'], label = 'val_loss')\n",
    "plt.xlabel('Epoch')\n",
    "plt.ylabel('Loss')\n",
    "plt.ylim([0.5, 1])\n",
    "plt.legend(loc='lower right')\n",
    "plt.title('Best Model')\n",
    "plt.show()"
   ]
  },
  {
   "cell_type": "markdown",
   "metadata": {},
   "source": [
    "----"
   ]
  },
  {
   "cell_type": "code",
   "execution_count": 70,
   "metadata": {},
   "outputs": [
    {
     "name": "stdout",
     "output_type": "stream",
     "text": [
      "Trial 10 Complete [00h 00m 51s]\n",
      "val_accuracy: 0.9905999898910522\n",
      "\n",
      "Best val_accuracy So Far: 0.9918000102043152\n",
      "Total elapsed time: 00h 08m 50s\n",
      "INFO:tensorflow:Oracle triggered exit\n"
     ]
    }
   ],
   "source": [
    "# Build Model\n",
    "def build_model5(hp):\n",
    "    model5 = tf.keras.Sequential()\n",
    "    \n",
    "    # Input layer\n",
    "    model5.add(keras.layers.InputLayer(input_shape=(28, 28, 1)))\n",
    "    \n",
    "    # Add Conv2D layers iteratively\n",
    "    for i in range(hp.Int('num_layers', 2, 10, step=2)):\n",
    "        model5.add(keras.layers.Conv2D(\n",
    "            filters = hp.Int(f'conv_{i+1}_filter', min_value=32, max_value=128, step=16),\n",
    "            kernel_size = hp.Choice(f'conv_{i+1}_kernel', values = [3,5]),\n",
    "            activation = 'relu'\n",
    "        ))\n",
    "    \n",
    "    model5.add(keras.layers.Flatten())\n",
    "    model5.add(keras.layers.Dense(\n",
    "        units = hp.Int('dense_1_units', min_value=32, max_value=128, step=16),\n",
    "        activation = 'relu'\n",
    "    ))\n",
    "    model5.add(keras.layers.Dense(10, activation='softmax'))\n",
    "\n",
    "    model5.compile(optimizer=keras.optimizers.Adam(hp.Choice('learning_rate', values=[1e-2, 1e-3])),\n",
    "                loss='sparse_categorical_crossentropy',\n",
    "                metrics=['accuracy'])\n",
    "    \n",
    "    return model5\n",
    "\n",
    "tuner5 = kt.Hyperband(\n",
    "    build_model5,\n",
    "    objective='val_accuracy',\n",
    "    max_epochs=5,\n",
    "    factor=3,\n",
    "    directory='KerasTuner/output',\n",
    "    project_name='MNIST_KerasTuner5'\n",
    ")\n",
    "\n",
    "tuner5.search_space_summary()\n",
    "tuner5.search(x_train, y_train,\n",
    "             epochs=5,\n",
    "             validation_data=(x_test, y_test),\n",
    "             callbacks=[stop_early])\n"
   ]
  },
  {
   "cell_type": "code",
   "execution_count": 71,
   "metadata": {},
   "outputs": [],
   "source": [
    "import os\n",
    "import visualkeras\n",
    "from PIL import ImageFont"
   ]
  },
  {
   "cell_type": "code",
   "execution_count": 72,
   "metadata": {},
   "outputs": [],
   "source": [
    "font_path = \"/usr/share/fonts/truetype/dejavu/DejaVuSans.ttf\" # change this to the path of the font file in your system\n",
    "font = ImageFont.truetype(font_path, 12)"
   ]
  },
  {
   "cell_type": "code",
   "execution_count": 79,
   "metadata": {},
   "outputs": [],
   "source": [
    "file_path = \"/home/roderickperez/DS_projects/autoencoders/images/MNIST/KerasTuner/\""
   ]
  },
  {
   "cell_type": "code",
   "execution_count": 75,
   "metadata": {},
   "outputs": [
    {
     "name": "stdout",
     "output_type": "stream",
     "text": [
      "Epoch 1/5\n",
      "1500/1500 [==============================] - 12s 7ms/step - loss: 0.1343 - accuracy: 0.9597 - val_loss: 0.0514 - val_accuracy: 0.9852\n",
      "Epoch 2/5\n",
      "1500/1500 [==============================] - 9s 6ms/step - loss: 0.0502 - accuracy: 0.9848 - val_loss: 0.0544 - val_accuracy: 0.9843\n",
      "Epoch 3/5\n",
      "1500/1500 [==============================] - 9s 6ms/step - loss: 0.0360 - accuracy: 0.9886 - val_loss: 0.0567 - val_accuracy: 0.9846\n",
      "Epoch 4/5\n",
      "1500/1500 [==============================] - 9s 6ms/step - loss: 0.0250 - accuracy: 0.9921 - val_loss: 0.0462 - val_accuracy: 0.9881\n",
      "Epoch 5/5\n",
      "1500/1500 [==============================] - 9s 6ms/step - loss: 0.0191 - accuracy: 0.9940 - val_loss: 0.0492 - val_accuracy: 0.9873\n"
     ]
    }
   ],
   "source": [
    "best_hps5 = tuner5.get_best_hyperparameters(num_trials=1)[0]\n",
    "## Build the model with the best hyperparameters\n",
    "\n",
    "model5 = tuner5.hypermodel.build(best_hps5)\n",
    "history5 = model5.fit(x_train, y_train,epochs=5, validation_split=0.2, callbacks=[stop_early])"
   ]
  },
  {
   "cell_type": "code",
   "execution_count": 80,
   "metadata": {},
   "outputs": [],
   "source": [
    "visualkeras.layered_view(model5, legend=True, font=font).save(file_path + \"kerasTuner_Model5.png\")"
   ]
  },
  {
   "cell_type": "code",
   "execution_count": null,
   "metadata": {},
   "outputs": [],
   "source": []
  }
 ],
 "metadata": {
  "kernelspec": {
   "display_name": "Python 3",
   "language": "python",
   "name": "python3"
  },
  "language_info": {
   "codemirror_mode": {
    "name": "ipython",
    "version": 3
   },
   "file_extension": ".py",
   "mimetype": "text/x-python",
   "name": "python",
   "nbconvert_exporter": "python",
   "pygments_lexer": "ipython3",
   "version": "3.10.12"
  },
  "orig_nbformat": 4
 },
 "nbformat": 4,
 "nbformat_minor": 2
}
