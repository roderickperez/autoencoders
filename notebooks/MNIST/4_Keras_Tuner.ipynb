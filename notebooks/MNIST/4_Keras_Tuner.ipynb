{
 "cells": [
  {
   "cell_type": "code",
   "execution_count": 1,
   "metadata": {},
   "outputs": [],
   "source": [
    "import warnings\n",
    "warnings.filterwarnings('ignore')"
   ]
  },
  {
   "cell_type": "code",
   "execution_count": 2,
   "metadata": {},
   "outputs": [],
   "source": [
    "import matplotlib.pyplot as plt\n",
    "import time"
   ]
  },
  {
   "cell_type": "code",
   "execution_count": 3,
   "metadata": {},
   "outputs": [],
   "source": [
    "# Keras\n",
    "import tensorflow as tf\n",
    "from tensorflow import keras\n",
    "from tensorflow.keras import layers\n",
    "\n",
    "# Keras Tuner\n",
    "import keras_tuner as kt\n",
    "from kerastuner.tuners import RandomSearch"
   ]
  },
  {
   "cell_type": "code",
   "execution_count": 4,
   "metadata": {},
   "outputs": [],
   "source": [
    "# Load Dataset\n",
    "mnist = tf.keras.datasets.mnist"
   ]
  },
  {
   "cell_type": "code",
   "execution_count": 5,
   "metadata": {},
   "outputs": [],
   "source": [
    "(x_train, y_train), (x_test, y_test) = mnist.load_data()\n",
    "x_train, x_test= x_train / 255.0, x_test / 255.0"
   ]
  },
  {
   "cell_type": "code",
   "execution_count": 6,
   "metadata": {},
   "outputs": [
    {
     "name": "stdout",
     "output_type": "stream",
     "text": [
      "(60000, 28, 28) (10000, 28, 28)\n"
     ]
    }
   ],
   "source": [
    "print(x_train.shape, x_test.shape)"
   ]
  },
  {
   "cell_type": "code",
   "execution_count": 7,
   "metadata": {},
   "outputs": [],
   "source": [
    "## Define Early Stopping\n",
    "stop_early = tf.keras.callbacks.EarlyStopping(monitor='val_loss', patience=5)"
   ]
  },
  {
   "cell_type": "code",
   "execution_count": 8,
   "metadata": {},
   "outputs": [],
   "source": [
    "# Build Model\n",
    "def build_model1(hp):\n",
    "    model1 = keras.Sequential()\n",
    "    model1.add(tf.keras.layers.Flatten(input_shape=(28, 28)))\n",
    "\n",
    "    hp_activation = hp.Choice('activation', values=['relu', 'tanh'])\n",
    "\n",
    "    hp_layer_1 = hp.Int('Layer_1', min_value=1, max_value=1000, step=1)\n",
    "    hp_layer_2 = hp.Int('Layer_2', min_value=1, max_value=1000, step=1)\n",
    "\n",
    "    model1.add(tf.keras.layers.Dense(units=hp_layer_1, activation=hp_activation))\n",
    "    model1.add(tf.keras.layers.Dense(units=hp_layer_2, activation=hp_activation))\n",
    "    model1.add(tf.keras.layers.Dense(10, activation='softmax'))\n",
    "    \n",
    "    model1.compile(optimizer=keras.optimizers.Adam(hp.Choice('learning_rate',\n",
    "                                                            values=[1e-2, 1e-3, 1e-4])),\n",
    "                  loss='sparse_categorical_crossentropy',\n",
    "                  metrics=['accuracy'])\n",
    "    \n",
    "    return model1"
   ]
  },
  {
   "cell_type": "code",
   "execution_count": 9,
   "metadata": {},
   "outputs": [],
   "source": [
    "tuner1 = RandomSearch(\n",
    "    build_model1,\n",
    "    objective='val_accuracy',\n",
    "    max_trials=5,\n",
    "    executions_per_trial=3,\n",
    "    directory='KerasTuner/output',\n",
    "    project_name='MNIST_KerasTuner'\n",
    ")"
   ]
  },
  {
   "cell_type": "code",
   "execution_count": 10,
   "metadata": {},
   "outputs": [
    {
     "name": "stdout",
     "output_type": "stream",
     "text": [
      "Search space summary\n",
      "Default search space size: 4\n",
      "activation (Choice)\n",
      "{'default': 'relu', 'conditions': [], 'values': ['relu', 'tanh'], 'ordered': False}\n",
      "Layer_1 (Int)\n",
      "{'default': None, 'conditions': [], 'min_value': 1, 'max_value': 1000, 'step': 1, 'sampling': 'linear'}\n",
      "Layer_2 (Int)\n",
      "{'default': None, 'conditions': [], 'min_value': 1, 'max_value': 1000, 'step': 1, 'sampling': 'linear'}\n",
      "learning_rate (Choice)\n",
      "{'default': 0.01, 'conditions': [], 'values': [0.01, 0.001, 0.0001], 'ordered': True}\n"
     ]
    }
   ],
   "source": [
    "tuner1.search_space_summary()"
   ]
  },
  {
   "cell_type": "code",
   "execution_count": 11,
   "metadata": {},
   "outputs": [
    {
     "name": "stdout",
     "output_type": "stream",
     "text": [
      "Trial 5 Complete [00h 01m 56s]\n",
      "val_accuracy: 0.9767000079154968\n",
      "\n",
      "Best val_accuracy So Far: 0.9796333312988281\n",
      "Total elapsed time: 00h 09m 54s\n",
      "INFO:tensorflow:Oracle triggered exit\n"
     ]
    }
   ],
   "source": [
    "tuner1.search(x_train, y_train,\n",
    "             epochs=5,\n",
    "             validation_data=(x_test, y_test),\n",
    "             callbacks=[stop_early])"
   ]
  },
  {
   "cell_type": "code",
   "execution_count": 12,
   "metadata": {},
   "outputs": [
    {
     "name": "stdout",
     "output_type": "stream",
     "text": [
      "Results summary\n",
      "Results in KerasTuner/output/MNIST_KerasTuner\n",
      "Showing 10 best trials\n",
      "Objective(name=\"val_accuracy\", direction=\"max\")\n",
      "\n",
      "Trial 1 summary\n",
      "Hyperparameters:\n",
      "activation: relu\n",
      "Layer_1: 767\n",
      "Layer_2: 601\n",
      "learning_rate: 0.001\n",
      "Score: 0.9796333312988281\n",
      "\n",
      "Trial 0 summary\n",
      "Hyperparameters:\n",
      "activation: relu\n",
      "Layer_1: 697\n",
      "Layer_2: 895\n",
      "learning_rate: 0.001\n",
      "Score: 0.9794333378473917\n",
      "\n",
      "Trial 3 summary\n",
      "Hyperparameters:\n",
      "activation: relu\n",
      "Layer_1: 752\n",
      "Layer_2: 455\n",
      "learning_rate: 0.0001\n",
      "Score: 0.9777666727701823\n",
      "\n",
      "Trial 4 summary\n",
      "Hyperparameters:\n",
      "activation: relu\n",
      "Layer_1: 769\n",
      "Layer_2: 94\n",
      "learning_rate: 0.0001\n",
      "Score: 0.9767000079154968\n",
      "\n",
      "Trial 2 summary\n",
      "Hyperparameters:\n",
      "activation: tanh\n",
      "Layer_1: 697\n",
      "Layer_2: 986\n",
      "learning_rate: 0.001\n",
      "Score: 0.9715666572252909\n"
     ]
    }
   ],
   "source": [
    "tuner1.results_summary()"
   ]
  },
  {
   "cell_type": "markdown",
   "metadata": {},
   "source": [
    "---"
   ]
  },
  {
   "cell_type": "markdown",
   "metadata": {},
   "source": [
    "### Select the best Hyperparameters for Model 1"
   ]
  },
  {
   "cell_type": "code",
   "execution_count": 13,
   "metadata": {},
   "outputs": [],
   "source": [
    "best_hps1 = tuner1.get_best_hyperparameters(num_trials=1)[0]"
   ]
  },
  {
   "cell_type": "code",
   "execution_count": 14,
   "metadata": {},
   "outputs": [],
   "source": [
    "## Build the model with the best hyperparameters\n",
    "\n",
    "model1 = tuner1.hypermodel.build(best_hps1)"
   ]
  },
  {
   "cell_type": "code",
   "execution_count": 15,
   "metadata": {},
   "outputs": [
    {
     "name": "stdout",
     "output_type": "stream",
     "text": [
      "Epoch 1/5\n",
      "1500/1500 [==============================] - 7s 4ms/step - loss: 0.1959 - accuracy: 0.9399 - val_loss: 0.1081 - val_accuracy: 0.9653\n",
      "Epoch 2/5\n",
      "1500/1500 [==============================] - 6s 4ms/step - loss: 0.0841 - accuracy: 0.9738 - val_loss: 0.0983 - val_accuracy: 0.9706\n",
      "Epoch 3/5\n",
      "1500/1500 [==============================] - 6s 4ms/step - loss: 0.0561 - accuracy: 0.9818 - val_loss: 0.1088 - val_accuracy: 0.9711\n",
      "Epoch 4/5\n",
      "1500/1500 [==============================] - 6s 4ms/step - loss: 0.0442 - accuracy: 0.9858 - val_loss: 0.1187 - val_accuracy: 0.9697\n",
      "Epoch 5/5\n",
      "1500/1500 [==============================] - 6s 4ms/step - loss: 0.0363 - accuracy: 0.9883 - val_loss: 0.1037 - val_accuracy: 0.9738\n"
     ]
    }
   ],
   "source": [
    "history1 = model1.fit(x_train, y_train,epochs=5, validation_split=0.2, callbacks=[stop_early])"
   ]
  },
  {
   "cell_type": "code",
   "execution_count": 16,
   "metadata": {},
   "outputs": [
    {
     "data": {
      "image/png": "[encoded data removed]",
      "text/plain": [
       "<Figure size 640x480 with 1 Axes>"
      ]
     },
     "metadata": {},
     "output_type": "display_data"
    }
   ],
   "source": [
    "# Plot the learning curves for training and validation accuracy/loss for the best model\n",
    "plt.plot(history1.history['accuracy'], label='accuracy')\n",
    "plt.plot(history1.history['val_accuracy'], label = 'val_accuracy')\n",
    "plt.xlabel('Epoch')\n",
    "plt.ylabel('Accuracy/Loss')\n",
    "plt.ylim([0.5, 1])\n",
    "plt.legend(loc='lower right')\n",
    "plt.title('Best Model')\n",
    "plt.show()"
   ]
  },
  {
   "cell_type": "code",
   "execution_count": 17,
   "metadata": {},
   "outputs": [
    {
     "data": {
      "image/png": "[encoded data removed]",
      "text/plain": [
       "<Figure size 640x480 with 1 Axes>"
      ]
     },
     "metadata": {},
     "output_type": "display_data"
    }
   ],
   "source": [
    "# Plot the loss for the best model\n",
    "plt.plot(history1.history['loss'], label='loss')\n",
    "plt.plot(history1.history['val_loss'], label = 'val_loss')\n",
    "plt.xlabel('Epoch')\n",
    "plt.ylabel('Loss')\n",
    "plt.ylim([0.5, 1])\n",
    "plt.legend(loc='lower right')\n",
    "plt.title('Best Model')\n",
    "plt.show()"
   ]
  },
  {
   "cell_type": "markdown",
   "metadata": {},
   "source": [
    "---"
   ]
  },
  {
   "cell_type": "markdown",
   "metadata": {},
   "source": [
    "## Model 2"
   ]
  },
  {
   "cell_type": "markdown",
   "metadata": {},
   "source": [
    "Add for loops to iterate over the hyperparameters"
   ]
  },
  {
   "cell_type": "code",
   "execution_count": 18,
   "metadata": {},
   "outputs": [],
   "source": [
    "# Build Model\n",
    "def build_model2(hp):\n",
    "    model2 = keras.Sequential()\n",
    "    model2.add(tf.keras.layers.Flatten(input_shape=(28, 28)))\n",
    "\n",
    "    hp_activation = hp.Choice('activation', values=['relu', 'tanh'])\n",
    "\n",
    "    for i in range(hp.Int('layers', 2, 6)):\n",
    "        model2.add(tf.keras.layers.Dense(\n",
    "            units=hp.Int('units_' + str(i), \n",
    "                         min_value=1,\n",
    "                         max_value=1000,\n",
    "                         step=1),\n",
    "                         activation=hp_activation)\n",
    "        )\n",
    "    \n",
    "    \n",
    "    model2.add(tf.keras.layers.Dense(10, activation='softmax'))\n",
    "    \n",
    "    model2.compile(optimizer=keras.optimizers.Adam(hp.Choice('learning_rate',\n",
    "                                                            values=[1e-2, 1e-3, 1e-4])),\n",
    "                  loss='sparse_categorical_crossentropy',\n",
    "                  metrics=['accuracy'])\n",
    "    \n",
    "    return model2"
   ]
  },
  {
   "cell_type": "code",
   "execution_count": 19,
   "metadata": {},
   "outputs": [],
   "source": [
    "tuner2 = RandomSearch(\n",
    "    build_model2,\n",
    "    objective='val_accuracy',\n",
    "    max_trials=5,\n",
    "    executions_per_trial=3,\n",
    "    directory='KerasTuner/output',\n",
    "    project_name='MNIST_KerasTuner2'\n",
    ")"
   ]
  },
  {
   "cell_type": "code",
   "execution_count": 20,
   "metadata": {},
   "outputs": [
    {
     "name": "stdout",
     "output_type": "stream",
     "text": [
      "Search space summary\n",
      "Default search space size: 5\n",
      "activation (Choice)\n",
      "{'default': 'relu', 'conditions': [], 'values': ['relu', 'tanh'], 'ordered': False}\n",
      "layers (Int)\n",
      "{'default': None, 'conditions': [], 'min_value': 2, 'max_value': 6, 'step': 1, 'sampling': 'linear'}\n",
      "units_0 (Int)\n",
      "{'default': None, 'conditions': [], 'min_value': 1, 'max_value': 1000, 'step': 1, 'sampling': 'linear'}\n",
      "units_1 (Int)\n",
      "{'default': None, 'conditions': [], 'min_value': 1, 'max_value': 1000, 'step': 1, 'sampling': 'linear'}\n",
      "learning_rate (Choice)\n",
      "{'default': 0.01, 'conditions': [], 'values': [0.01, 0.001, 0.0001], 'ordered': True}\n"
     ]
    }
   ],
   "source": [
    "tuner2.search_space_summary()"
   ]
  },
  {
   "cell_type": "code",
   "execution_count": 21,
   "metadata": {},
   "outputs": [
    {
     "name": "stdout",
     "output_type": "stream",
     "text": [
      "Trial 5 Complete [00h 02m 16s]\n",
      "val_accuracy: 0.9647000034650167\n",
      "\n",
      "Best val_accuracy So Far: 0.9739666779836019\n",
      "Total elapsed time: 00h 11m 16s\n",
      "INFO:tensorflow:Oracle triggered exit\n",
      "Execution Time (Random Search):  676.3533582687378  seconds\n"
     ]
    }
   ],
   "source": [
    "# Measure the execution time for hyperparameter tuning\n",
    "start_time = time.time()\n",
    "tuner2.search(x_train, y_train,\n",
    "             epochs=5,\n",
    "             validation_data=(x_test, y_test),\n",
    "             callbacks=[stop_early])\n",
    "end_time = time.time()\n",
    "\n",
    "exec_time2= end_time - start_time\n",
    "print(\"Execution Time (Random Search): \", exec_time2, \" seconds\")"
   ]
  },
  {
   "cell_type": "code",
   "execution_count": 22,
   "metadata": {},
   "outputs": [
    {
     "name": "stdout",
     "output_type": "stream",
     "text": [
      "Results summary\n",
      "Results in KerasTuner/output/MNIST_KerasTuner2\n",
      "Showing 10 best trials\n",
      "Objective(name=\"val_accuracy\", direction=\"max\")\n",
      "\n",
      "Trial 0 summary\n",
      "Hyperparameters:\n",
      "activation: tanh\n",
      "layers: 2\n",
      "units_0: 399\n",
      "units_1: 644\n",
      "learning_rate: 0.001\n",
      "Score: 0.9739666779836019\n",
      "\n",
      "Trial 4 summary\n",
      "Hyperparameters:\n",
      "activation: relu\n",
      "layers: 2\n",
      "units_0: 376\n",
      "units_1: 147\n",
      "learning_rate: 0.01\n",
      "units_2: 901\n",
      "units_3: 421\n",
      "units_4: 426\n",
      "units_5: 708\n",
      "Score: 0.9647000034650167\n",
      "\n",
      "Trial 3 summary\n",
      "Hyperparameters:\n",
      "activation: tanh\n",
      "layers: 3\n",
      "units_0: 961\n",
      "units_1: 173\n",
      "learning_rate: 0.01\n",
      "units_2: 595\n",
      "units_3: 205\n",
      "units_4: 30\n",
      "units_5: 964\n",
      "Score: 0.7476999759674072\n",
      "\n",
      "Trial 1 summary\n",
      "Hyperparameters:\n",
      "activation: tanh\n",
      "layers: 4\n",
      "units_0: 158\n",
      "units_1: 118\n",
      "learning_rate: 0.001\n",
      "units_2: 1\n",
      "units_3: 1\n",
      "Score: 0.34843332568804425\n",
      "\n",
      "Trial 2 summary\n",
      "Hyperparameters:\n",
      "activation: tanh\n",
      "layers: 6\n",
      "units_0: 278\n",
      "units_1: 188\n",
      "learning_rate: 0.0001\n",
      "units_2: 660\n",
      "units_3: 507\n",
      "units_4: 1\n",
      "units_5: 1\n",
      "Score: 0.21050000190734863\n"
     ]
    }
   ],
   "source": [
    "tuner2.results_summary()"
   ]
  },
  {
   "cell_type": "markdown",
   "metadata": {},
   "source": [
    "---"
   ]
  },
  {
   "cell_type": "code",
   "execution_count": null,
   "metadata": {},
   "outputs": [],
   "source": [
    "best_hps2 = tuner2.get_best_hyperparameters(num_trials=1)[0]\n",
    "## Build the model with the best hyperparameters\n",
    "\n",
    "model2 = tuner2.hypermodel.build(best_hps2)\n",
    "history2 = model2.fit(x_train, y_train,epochs=5, validation_split=0.2, callbacks=[stop_early])"
   ]
  },
  {
   "cell_type": "code",
   "execution_count": 23,
   "metadata": {},
   "outputs": [
    {
     "name": "stdout",
     "output_type": "stream",
     "text": [
      "Epoch 1/5\n",
      "1500/1500 [==============================] - 8s 5ms/step - loss: 2.3014 - accuracy: 0.1133 - val_loss: 2.3021 - val_accuracy: 0.1060\n",
      "Epoch 2/5\n",
      "1500/1500 [==============================] - 7s 5ms/step - loss: 2.3012 - accuracy: 0.1140 - val_loss: 2.3022 - val_accuracy: 0.1060\n",
      "Epoch 3/5\n",
      "1500/1500 [==============================] - 7s 5ms/step - loss: 2.3012 - accuracy: 0.1140 - val_loss: 2.3022 - val_accuracy: 0.1060\n",
      "Epoch 4/5\n",
      "1500/1500 [==============================] - 7s 5ms/step - loss: 2.3011 - accuracy: 0.1140 - val_loss: 2.3023 - val_accuracy: 0.1060\n",
      "Epoch 5/5\n",
      "1500/1500 [==============================] - 7s 5ms/step - loss: 2.3012 - accuracy: 0.1140 - val_loss: 2.3021 - val_accuracy: 0.1060\n"
     ]
    },
    {
     "data": {
      "image/png": "[encoded data removed]",
      "text/plain": [
       "<Figure size 640x480 with 1 Axes>"
      ]
     },
     "metadata": {},
     "output_type": "display_data"
    }
   ],
   "source": [
    "# Plot the learning curves for training and validation accuracy/loss for the best model\n",
    "plt.plot(history2.history['accuracy'], label='accuracy')\n",
    "plt.plot(history2.history['val_accuracy'], label = 'val_accuracy')\n",
    "plt.xlabel('Epoch')\n",
    "plt.ylabel('Accuracy/Loss')\n",
    "plt.ylim([0.5, 1])\n",
    "plt.legend(loc='lower right')\n",
    "plt.title('Best Model | Random Search {}'.format(exec_time2))\n",
    "plt.show()"
   ]
  },
  {
   "cell_type": "code",
   "execution_count": 24,
   "metadata": {},
   "outputs": [
    {
     "data": {
      "image/png": "[encoded data removed]",
      "text/plain": [
       "<Figure size 640x480 with 1 Axes>"
      ]
     },
     "metadata": {},
     "output_type": "display_data"
    }
   ],
   "source": [
    "# Plot the loss for the best model\n",
    "plt.plot(history2.history['loss'], label='loss')\n",
    "plt.plot(history2.history['val_loss'], label = 'val_loss')\n",
    "plt.xlabel('Epoch')\n",
    "plt.ylabel('Loss')\n",
    "plt.ylim([0.5, 1])\n",
    "plt.legend(loc='lower right')\n",
    "plt.title('Best Model')\n",
    "plt.show()"
   ]
  },
  {
   "cell_type": "markdown",
   "metadata": {},
   "source": [
    "---"
   ]
  },
  {
   "cell_type": "markdown",
   "metadata": {},
   "source": [
    "## Model 3"
   ]
  },
  {
   "cell_type": "markdown",
   "metadata": {},
   "source": [
    "Add for loops to iterate over the hyperparameters"
   ]
  },
  {
   "cell_type": "code",
   "execution_count": 25,
   "metadata": {},
   "outputs": [],
   "source": [
    "# Build Model\n",
    "def build_model3(hp):\n",
    "    model3 = keras.Sequential()\n",
    "    model3.add(tf.keras.layers.Flatten(input_shape=(28, 28)))\n",
    "\n",
    "    hp_activation = hp.Choice('activation', values=['relu', 'tanh'])\n",
    "\n",
    "    for i in range(hp.Int('layers', 2, 6)):\n",
    "        model3.add(tf.keras.layers.Dense(\n",
    "            units=hp.Int('units_' + str(i), \n",
    "                         min_value=1,\n",
    "                         max_value=1000,\n",
    "                         step=1),\n",
    "                         activation=hp_activation)\n",
    "        )\n",
    "    \n",
    "    \n",
    "    model3.add(tf.keras.layers.Dense(10, activation='softmax'))\n",
    "    \n",
    "    model3.compile(optimizer=keras.optimizers.Adam(hp.Choice('learning_rate',\n",
    "                                                            values=[1e-2, 1e-3, 1e-4])),\n",
    "                  loss='sparse_categorical_crossentropy',\n",
    "                  metrics=['accuracy'])\n",
    "    \n",
    "    return model3"
   ]
  },
  {
   "cell_type": "code",
   "execution_count": 26,
   "metadata": {},
   "outputs": [],
   "source": [
    "tuner3 = kt.Hyperband(\n",
    "    build_model3,\n",
    "    objective='val_accuracy',\n",
    "    max_epochs=5,\n",
    "    factor=3,\n",
    "    directory='KerasTuner/output',\n",
    "    project_name='MNIST_KerasTuner3'\n",
    ")\n"
   ]
  },
  {
   "cell_type": "code",
   "execution_count": 27,
   "metadata": {},
   "outputs": [
    {
     "name": "stdout",
     "output_type": "stream",
     "text": [
      "Search space summary\n",
      "Default search space size: 5\n",
      "activation (Choice)\n",
      "{'default': 'relu', 'conditions': [], 'values': ['relu', 'tanh'], 'ordered': False}\n",
      "layers (Int)\n",
      "{'default': None, 'conditions': [], 'min_value': 2, 'max_value': 6, 'step': 1, 'sampling': 'linear'}\n",
      "units_0 (Int)\n",
      "{'default': None, 'conditions': [], 'min_value': 1, 'max_value': 1000, 'step': 1, 'sampling': 'linear'}\n",
      "units_1 (Int)\n",
      "{'default': None, 'conditions': [], 'min_value': 1, 'max_value': 1000, 'step': 1, 'sampling': 'linear'}\n",
      "learning_rate (Choice)\n",
      "{'default': 0.01, 'conditions': [], 'values': [0.01, 0.001, 0.0001], 'ordered': True}\n"
     ]
    }
   ],
   "source": [
    "tuner3.search_space_summary()"
   ]
  },
  {
   "cell_type": "code",
   "execution_count": 28,
   "metadata": {},
   "outputs": [
    {
     "name": "stdout",
     "output_type": "stream",
     "text": [
      "Trial 10 Complete [00h 03m 41s]\n",
      "val_accuracy: 0.9794999957084656\n",
      "\n",
      "Best val_accuracy So Far: 0.9799000024795532\n",
      "Total elapsed time: 00h 13m 54s\n",
      "INFO:tensorflow:Oracle triggered exit\n",
      "Execution Time (HyperBand):  834.0576043128967  seconds\n"
     ]
    }
   ],
   "source": [
    "# Measure the execution time for hyperparameter tuning\n",
    "start_time = time.time()\n",
    "tuner3.search(x_train, y_train,\n",
    "             epochs=5,\n",
    "             validation_data=(x_test, y_test),\n",
    "             callbacks=[stop_early])\n",
    "end_time = time.time()\n",
    "\n",
    "exec_time3= end_time - start_time\n",
    "print(\"Execution Time (HyperBand): \", exec_time3, \" seconds\")"
   ]
  },
  {
   "cell_type": "code",
   "execution_count": 29,
   "metadata": {},
   "outputs": [
    {
     "name": "stdout",
     "output_type": "stream",
     "text": [
      "Results summary\n",
      "Results in KerasTuner/output/MNIST_KerasTuner3\n",
      "Showing 10 best trials\n",
      "Objective(name=\"val_accuracy\", direction=\"max\")\n",
      "\n",
      "Trial 0005 summary\n",
      "Hyperparameters:\n",
      "activation: relu\n",
      "layers: 5\n",
      "units_0: 725\n",
      "units_1: 33\n",
      "learning_rate: 0.001\n",
      "units_2: 492\n",
      "units_3: 556\n",
      "units_4: 935\n",
      "units_5: 850\n",
      "tuner/epochs: 5\n",
      "tuner/initial_epoch: 2\n",
      "tuner/bracket: 1\n",
      "tuner/round: 1\n",
      "tuner/trial_id: 0004\n",
      "Score: 0.9799000024795532\n",
      "\n",
      "Trial 0009 summary\n",
      "Hyperparameters:\n",
      "activation: relu\n",
      "layers: 2\n",
      "units_0: 552\n",
      "units_1: 821\n",
      "learning_rate: 0.001\n",
      "units_2: 565\n",
      "units_3: 197\n",
      "units_4: 410\n",
      "units_5: 27\n",
      "tuner/epochs: 5\n",
      "tuner/initial_epoch: 0\n",
      "tuner/bracket: 0\n",
      "tuner/round: 0\n",
      "Score: 0.9794999957084656\n",
      "\n",
      "Trial 0006 summary\n",
      "Hyperparameters:\n",
      "activation: tanh\n",
      "layers: 2\n",
      "units_0: 145\n",
      "units_1: 760\n",
      "learning_rate: 0.001\n",
      "units_2: 902\n",
      "units_3: 907\n",
      "units_4: 411\n",
      "units_5: 310\n",
      "tuner/epochs: 5\n",
      "tuner/initial_epoch: 2\n",
      "tuner/bracket: 1\n",
      "tuner/round: 1\n",
      "tuner/trial_id: 0003\n",
      "Score: 0.9742000102996826\n",
      "\n",
      "Trial 0004 summary\n",
      "Hyperparameters:\n",
      "activation: relu\n",
      "layers: 5\n",
      "units_0: 725\n",
      "units_1: 33\n",
      "learning_rate: 0.001\n",
      "units_2: 492\n",
      "units_3: 556\n",
      "units_4: 935\n",
      "units_5: 850\n",
      "tuner/epochs: 2\n",
      "tuner/initial_epoch: 0\n",
      "tuner/bracket: 1\n",
      "tuner/round: 0\n",
      "Score: 0.970300018787384\n",
      "\n",
      "Trial 0003 summary\n",
      "Hyperparameters:\n",
      "activation: tanh\n",
      "layers: 2\n",
      "units_0: 145\n",
      "units_1: 760\n",
      "learning_rate: 0.001\n",
      "units_2: 902\n",
      "units_3: 907\n",
      "units_4: 411\n",
      "units_5: 310\n",
      "tuner/epochs: 2\n",
      "tuner/initial_epoch: 0\n",
      "tuner/bracket: 1\n",
      "tuner/round: 0\n",
      "Score: 0.9573000073432922\n",
      "\n",
      "Trial 0008 summary\n",
      "Hyperparameters:\n",
      "activation: relu\n",
      "layers: 4\n",
      "units_0: 399\n",
      "units_1: 966\n",
      "learning_rate: 0.01\n",
      "units_2: 134\n",
      "units_3: 183\n",
      "units_4: 430\n",
      "units_5: 638\n",
      "tuner/epochs: 5\n",
      "tuner/initial_epoch: 0\n",
      "tuner/bracket: 0\n",
      "tuner/round: 0\n",
      "Score: 0.9447000026702881\n",
      "\n",
      "Trial 0001 summary\n",
      "Hyperparameters:\n",
      "activation: relu\n",
      "layers: 5\n",
      "units_0: 40\n",
      "units_1: 211\n",
      "learning_rate: 0.001\n",
      "units_2: 314\n",
      "units_3: 743\n",
      "tuner/epochs: 2\n",
      "tuner/initial_epoch: 0\n",
      "tuner/bracket: 1\n",
      "tuner/round: 0\n",
      "units_4: 1\n",
      "Score: 0.43299999833106995\n",
      "\n",
      "Trial 0000 summary\n",
      "Hyperparameters:\n",
      "activation: tanh\n",
      "layers: 4\n",
      "units_0: 375\n",
      "units_1: 56\n",
      "learning_rate: 0.001\n",
      "tuner/epochs: 2\n",
      "tuner/initial_epoch: 0\n",
      "tuner/bracket: 1\n",
      "tuner/round: 0\n",
      "units_2: 1\n",
      "units_3: 1\n",
      "Score: 0.21170000731945038\n",
      "\n",
      "Trial 0002 summary\n",
      "Hyperparameters:\n",
      "activation: tanh\n",
      "layers: 6\n",
      "units_0: 967\n",
      "units_1: 198\n",
      "learning_rate: 0.0001\n",
      "units_2: 40\n",
      "units_3: 847\n",
      "units_4: 484\n",
      "tuner/epochs: 2\n",
      "tuner/initial_epoch: 0\n",
      "tuner/bracket: 1\n",
      "tuner/round: 0\n",
      "units_5: 1\n",
      "Score: 0.21130000054836273\n",
      "\n",
      "Trial 0007 summary\n",
      "Hyperparameters:\n",
      "activation: tanh\n",
      "layers: 5\n",
      "units_0: 769\n",
      "units_1: 478\n",
      "learning_rate: 0.01\n",
      "units_2: 863\n",
      "units_3: 74\n",
      "units_4: 526\n",
      "units_5: 206\n",
      "tuner/epochs: 5\n",
      "tuner/initial_epoch: 0\n",
      "tuner/bracket: 0\n",
      "tuner/round: 0\n",
      "Score: 0.195700004696846\n"
     ]
    }
   ],
   "source": [
    "tuner3.results_summary()"
   ]
  },
  {
   "cell_type": "markdown",
   "metadata": {},
   "source": [
    "---"
   ]
  },
  {
   "cell_type": "code",
   "execution_count": 30,
   "metadata": {},
   "outputs": [
    {
     "name": "stdout",
     "output_type": "stream",
     "text": [
      "Epoch 1/5\n",
      "1500/1500 [==============================] - 8s 5ms/step - loss: 2.0065 - accuracy: 0.2135 - val_loss: 1.8623 - val_accuracy: 0.2418\n",
      "Epoch 2/5\n",
      "1500/1500 [==============================] - 7s 5ms/step - loss: 1.8151 - accuracy: 0.2528 - val_loss: 1.7610 - val_accuracy: 0.2592\n",
      "Epoch 3/5\n",
      "1500/1500 [==============================] - 7s 5ms/step - loss: 1.7456 - accuracy: 0.2679 - val_loss: 1.7123 - val_accuracy: 0.2697\n",
      "Epoch 4/5\n",
      "1500/1500 [==============================] - 7s 5ms/step - loss: 1.7085 - accuracy: 0.2755 - val_loss: 1.6827 - val_accuracy: 0.2678\n",
      "Epoch 5/5\n",
      "1500/1500 [==============================] - 7s 5ms/step - loss: 1.6831 - accuracy: 0.2753 - val_loss: 1.6591 - val_accuracy: 0.2882\n"
     ]
    },
    {
     "data": {
      "image/png": "[encoded data removed]",
      "text/plain": [
       "<Figure size 640x480 with 1 Axes>"
      ]
     },
     "metadata": {},
     "output_type": "display_data"
    }
   ],
   "source": [
    "best_hps3 = tuner2.get_best_hyperparameters(num_trials=1)[0]\n",
    "## Build the model with the best hyperparameters\n",
    "\n",
    "model3 = tuner3.hypermodel.build(best_hps1)\n",
    "history3 = model3.fit(x_train, y_train,epochs=5, validation_split=0.2, callbacks=[stop_early])\n",
    "\n",
    "# Plot the learning curves for training and validation accuracy/loss for the best model\n",
    "plt.plot(history3.history['accuracy'], label='accuracy')\n",
    "plt.plot(history3.history['val_accuracy'], label = 'val_accuracy')\n",
    "plt.xlabel('Epoch')\n",
    "plt.ylabel('Accuracy/Loss')\n",
    "plt.ylim([0.5, 1])\n",
    "plt.legend(loc='lower right')\n",
    "plt.title('Best Model | Random Search {}'.format(exec_time3))\n",
    "plt.show()"
   ]
  },
  {
   "cell_type": "code",
   "execution_count": 31,
   "metadata": {},
   "outputs": [
    {
     "data": {
      "image/png": "[encoded data removed]",
      "text/plain": [
       "<Figure size 640x480 with 1 Axes>"
      ]
     },
     "metadata": {},
     "output_type": "display_data"
    }
   ],
   "source": [
    "# Plot the loss for the best model\n",
    "plt.plot(history3.history['loss'], label='loss')\n",
    "plt.plot(history3.history['val_loss'], label = 'val_loss')\n",
    "plt.xlabel('Epoch')\n",
    "plt.ylabel('Loss')\n",
    "plt.ylim([0.5, 1])\n",
    "plt.legend(loc='lower right')\n",
    "plt.title('Best Model')\n",
    "plt.show()"
   ]
  },
  {
   "cell_type": "markdown",
   "metadata": {},
   "source": [
    "---"
   ]
  },
  {
   "cell_type": "markdown",
   "metadata": {},
   "source": [
    "## Model 4"
   ]
  },
  {
   "cell_type": "code",
   "execution_count": null,
   "metadata": {},
   "outputs": [],
   "source": [
    "# Build Model\n",
    "def build_model4(hp):\n",
    "    model4 = tf.keras.Sequential([\n",
    "        keras.layers.Conv2D(\n",
    "            filters = hp.Int('conv_1_filter', min_value=32, max_value=128, step=16),\n",
    "            kernel_size = hp.Choice('conv_1_kernel', values = [3,5]),\n",
    "            activation = 'relu',\n",
    "            input_shape = (28,28,1)\n",
    "        ),\n",
    "        keras.layers.Conv2D(\n",
    "            filters = hp.Int('conv_2_filter', min_value=32, max_value=64, step=16),\n",
    "            kernel_size = hp.Choice('conv_2_kernel', values = [3,5]),\n",
    "            activation = 'relu'\n",
    "        ),\n",
    "        keras.layers.Flatten(),\n",
    "        keras.layers.Dense(\n",
    "            units = hp.Int('dense_1_units', min_value=32, max_value=128, step=16),\n",
    "            activation = 'relu'\n",
    "        ),\n",
    "        keras.layers.Dense(10, activation='softmax')\n",
    "    ])\n",
    "\n",
    "    model4.compile(optimizer=keras.optimizers.Adam(hp.Choice('learning_rate', values=[1e-2, 1e-3])),\n",
    "                loss='sparse_categorical_crossentropy',\n",
    "                metrics=['accuracy'])\n",
    "    \n",
    "    return model4"
   ]
  },
  {
   "cell_type": "code",
   "execution_count": null,
   "metadata": {},
   "outputs": [
    {
     "name": "stdout",
     "output_type": "stream",
     "text": [
      "INFO:tensorflow:Reloading Tuner from KerasTuner/output/MNIST_KerasTuner4/tuner0.json\n"
     ]
    }
   ],
   "source": [
    "tuner4 = kt.Hyperband(\n",
    "    build_model4,\n",
    "    objective='val_accuracy',\n",
    "    max_epochs=5,\n",
    "    factor=3,\n",
    "    directory='KerasTuner/output',\n",
    "    project_name='MNIST_KerasTuner4'\n",
    ")"
   ]
  },
  {
   "cell_type": "code",
   "execution_count": null,
   "metadata": {},
   "outputs": [
    {
     "name": "stdout",
     "output_type": "stream",
     "text": [
      "Search space summary\n",
      "Default search space size: 6\n",
      "activation (Choice)\n",
      "{'default': 'relu', 'conditions': [], 'values': ['relu', 'tanh'], 'ordered': False}\n",
      "learning_rate (Choice)\n",
      "{'default': 0.001, 'conditions': [], 'values': [0.001, 0.0001], 'ordered': True}\n",
      "filters (Choice)\n",
      "{'default': 32, 'conditions': [], 'values': [32, 64], 'ordered': True}\n",
      "kernel_size (Choice)\n",
      "{'default': 3, 'conditions': [], 'values': [3, 5], 'ordered': True}\n",
      "dense_units (Choice)\n",
      "{'default': 64, 'conditions': [], 'values': [64, 128, 256], 'ordered': True}\n",
      "layers (Int)\n",
      "{'default': None, 'conditions': [], 'min_value': 2, 'max_value': 6, 'step': 1, 'sampling': 'linear'}\n"
     ]
    }
   ],
   "source": [
    "tuner4.search_space_summary()"
   ]
  },
  {
   "cell_type": "code",
   "execution_count": null,
   "metadata": {},
   "outputs": [
    {
     "name": "stdout",
     "output_type": "stream",
     "text": [
      "INFO:tensorflow:Oracle triggered exit\n",
      "Execution Time (Hyperband):  0.001871347427368164  seconds\n"
     ]
    }
   ],
   "source": [
    "# Measure the execution time for hyperparameter tuning\n",
    "start_time = time.time()\n",
    "tuner4.search(x_train, y_train,\n",
    "             epochs=5,\n",
    "             validation_data=(x_test, y_test),\n",
    "             callbacks=[stop_early])\n",
    "\n",
    "end_time = time.time()\n",
    "\n",
    "exec_time4= end_time - start_time\n",
    "print(\"Execution Time (Hyperband): \", exec_time4, \" seconds\")"
   ]
  },
  {
   "cell_type": "code",
   "execution_count": null,
   "metadata": {},
   "outputs": [
    {
     "name": "stdout",
     "output_type": "stream",
     "text": [
      "Results summary\n",
      "Results in KerasTuner/output/MNIST_KerasTuner4\n",
      "Showing 10 best trials\n",
      "Objective(name=\"val_accuracy\", direction=\"max\")\n",
      "\n",
      "Trial 0006 summary\n",
      "Hyperparameters:\n",
      "activation: tanh\n",
      "learning_rate: 0.001\n",
      "filters: 64\n",
      "kernel_size: 3\n",
      "dense_units: 128\n",
      "layers: 3\n",
      "conv_1_filter: 128\n",
      "conv_1_kernel: 3\n",
      "conv_2_filter: 64\n",
      "conv_2_kernel: 5\n",
      "dense_1_units: 64\n",
      "tuner/epochs: 5\n",
      "tuner/initial_epoch: 0\n",
      "tuner/bracket: 0\n",
      "tuner/round: 0\n",
      "Score: 0.9896000027656555\n",
      "\n",
      "Trial 0005 summary\n",
      "Hyperparameters:\n",
      "activation: relu\n",
      "learning_rate: 0.0001\n",
      "filters: 64\n",
      "kernel_size: 3\n",
      "dense_units: 128\n",
      "layers: 4\n",
      "conv_1_filter: 48\n",
      "conv_1_kernel: 3\n",
      "conv_2_filter: 48\n",
      "conv_2_kernel: 3\n",
      "dense_1_units: 128\n",
      "tuner/epochs: 5\n",
      "tuner/initial_epoch: 0\n",
      "tuner/bracket: 0\n",
      "tuner/round: 0\n",
      "Score: 0.9886000156402588\n",
      "\n",
      "Trial 0007 summary\n",
      "Hyperparameters:\n",
      "activation: tanh\n",
      "learning_rate: 0.0001\n",
      "filters: 32\n",
      "kernel_size: 5\n",
      "dense_units: 64\n",
      "layers: 2\n",
      "conv_1_filter: 32\n",
      "conv_1_kernel: 5\n",
      "conv_2_filter: 48\n",
      "conv_2_kernel: 3\n",
      "dense_1_units: 112\n",
      "tuner/epochs: 5\n",
      "tuner/initial_epoch: 0\n",
      "tuner/bracket: 0\n",
      "tuner/round: 0\n",
      "Score: 0.9884999990463257\n",
      "\n",
      "Trial 0003 summary\n",
      "Hyperparameters:\n",
      "activation: tanh\n",
      "learning_rate: 0.0001\n",
      "filters: 32\n",
      "kernel_size: 3\n",
      "dense_units: 64\n",
      "layers: 2\n",
      "conv_1_filter: 112\n",
      "conv_1_kernel: 5\n",
      "conv_2_filter: 64\n",
      "conv_2_kernel: 5\n",
      "dense_1_units: 96\n",
      "tuner/epochs: 2\n",
      "tuner/initial_epoch: 0\n",
      "tuner/bracket: 1\n",
      "tuner/round: 0\n",
      "Score: 0.9876000285148621\n",
      "\n",
      "Trial 0004 summary\n",
      "Hyperparameters:\n",
      "activation: relu\n",
      "learning_rate: 0.0001\n",
      "filters: 32\n",
      "kernel_size: 5\n",
      "dense_units: 128\n",
      "layers: 6\n",
      "conv_1_filter: 112\n",
      "conv_1_kernel: 5\n",
      "conv_2_filter: 48\n",
      "conv_2_kernel: 3\n",
      "dense_1_units: 80\n",
      "tuner/epochs: 2\n",
      "tuner/initial_epoch: 0\n",
      "tuner/bracket: 1\n",
      "tuner/round: 0\n",
      "Score: 0.98580002784729\n",
      "\n",
      "Trial 0002 summary\n",
      "Hyperparameters:\n",
      "activation: relu\n",
      "learning_rate: 0.0001\n",
      "filters: 64\n",
      "kernel_size: 3\n",
      "dense_units: 64\n",
      "layers: 4\n",
      "tuner/epochs: 2\n",
      "tuner/initial_epoch: 0\n",
      "tuner/bracket: 1\n",
      "tuner/round: 0\n",
      "conv_1_filter: 32\n",
      "conv_1_kernel: 3\n",
      "conv_2_filter: 32\n",
      "conv_2_kernel: 3\n",
      "dense_1_units: 32\n",
      "Score: 0.9797999858856201\n",
      "\n",
      "Trial 0001 summary\n",
      "Hyperparameters:\n",
      "activation: relu\n",
      "learning_rate: 0.001\n",
      "filters: 32\n",
      "kernel_size: 5\n",
      "dense_units: 256\n",
      "layers: 2\n",
      "tuner/epochs: 2\n",
      "tuner/initial_epoch: 0\n",
      "tuner/bracket: 1\n",
      "tuner/round: 0\n",
      "Traceback (most recent call last):\n",
      "  File \"/home/roderickperez/.local/lib/python3.10/site-packages/keras_tuner/engine/base_tuner.py\", line 270, in _try_run_and_update_trial\n",
      "    self._run_and_update_trial(trial, *fit_args, **fit_kwargs)\n",
      "  File \"/home/roderickperez/.local/lib/python3.10/site-packages/keras_tuner/engine/base_tuner.py\", line 235, in _run_and_update_trial\n",
      "    results = self.run_trial(trial, *fit_args, **fit_kwargs)\n",
      "  File \"/home/roderickperez/.local/lib/python3.10/site-packages/keras_tuner/tuners/hyperband.py\", line 425, in run_trial\n",
      "    return super().run_trial(trial, *fit_args, **fit_kwargs)\n",
      "  File \"/home/roderickperez/.local/lib/python3.10/site-packages/keras_tuner/engine/tuner.py\", line 287, in run_trial\n",
      "    obj_value = self._build_and_fit_model(trial, *args, **copied_kwargs)\n",
      "  File \"/home/roderickperez/.local/lib/python3.10/site-packages/keras_tuner/engine/tuner.py\", line 214, in _build_and_fit_model\n",
      "    results = self.hypermodel.fit(hp, model, *args, **kwargs)\n",
      "  File \"/home/roderickperez/.local/lib/python3.10/site-packages/keras_tuner/engine/hypermodel.py\", line 144, in fit\n",
      "    return model.fit(*args, **kwargs)\n",
      "  File \"/usr/lib/python3/dist-packages/keras/utils/traceback_utils.py\", line 70, in error_handler\n",
      "    raise e.with_traceback(filtered_tb) from None\n",
      "  File \"/tmp/__autograph_generated_filevhzlhbb5.py\", line 15, in tf__train_function\n",
      "    retval_ = ag__.converted_call(ag__.ld(step_function), (ag__.ld(self), ag__.ld(iterator)), None, fscope)\n",
      "ValueError: in user code:\n",
      "\n",
      "    File \"/usr/lib/python3/dist-packages/keras/engine/training.py\", line 1338, in train_function  *\n",
      "        return step_function(self, iterator)\n",
      "    File \"/usr/lib/python3/dist-packages/keras/engine/training.py\", line 1322, in step_function  **\n",
      "        outputs = model.distribute_strategy.run(run_step, args=(data,))\n",
      "    File \"/usr/lib/python3/dist-packages/keras/engine/training.py\", line 1303, in run_step  **\n",
      "        outputs = model.train_step(data)\n",
      "    File \"/usr/lib/python3/dist-packages/keras/engine/training.py\", line 1080, in train_step\n",
      "        y_pred = self(x, training=True)\n",
      "    File \"/usr/lib/python3/dist-packages/keras/utils/traceback_utils.py\", line 70, in error_handler\n",
      "        raise e.with_traceback(filtered_tb) from None\n",
      "    File \"/usr/lib/python3/dist-packages/keras/engine/input_spec.py\", line 253, in assert_input_compatibility\n",
      "        raise ValueError(\n",
      "\n",
      "    ValueError: Exception encountered when calling layer 'sequential' (type Sequential).\n",
      "    \n",
      "    Input 0 of layer \"conv2d\" is incompatible with the layer: expected min_ndim=4, found ndim=3. Full shape received: (32, 28, 28)\n",
      "    \n",
      "    Call arguments received by layer 'sequential' (type Sequential):\n",
      "      • inputs=tf.Tensor(shape=(32, 28, 28), dtype=float32)\n",
      "      • training=True\n",
      "      • mask=None\n",
      "\n",
      "\n",
      "\n",
      "Trial 0000 summary\n",
      "Hyperparameters:\n",
      "activation: relu\n",
      "learning_rate: 0.0001\n",
      "filters: 64\n",
      "kernel_size: 3\n",
      "dense_units: 64\n",
      "layers: 2\n",
      "tuner/epochs: 2\n",
      "tuner/initial_epoch: 0\n",
      "tuner/bracket: 1\n",
      "tuner/round: 0\n",
      "Traceback (most recent call last):\n",
      "  File \"/home/roderickperez/.local/lib/python3.10/site-packages/keras_tuner/engine/base_tuner.py\", line 270, in _try_run_and_update_trial\n",
      "    self._run_and_update_trial(trial, *fit_args, **fit_kwargs)\n",
      "  File \"/home/roderickperez/.local/lib/python3.10/site-packages/keras_tuner/engine/base_tuner.py\", line 235, in _run_and_update_trial\n",
      "    results = self.run_trial(trial, *fit_args, **fit_kwargs)\n",
      "  File \"/home/roderickperez/.local/lib/python3.10/site-packages/keras_tuner/tuners/hyperband.py\", line 425, in run_trial\n",
      "    return super().run_trial(trial, *fit_args, **fit_kwargs)\n",
      "  File \"/home/roderickperez/.local/lib/python3.10/site-packages/keras_tuner/engine/tuner.py\", line 287, in run_trial\n",
      "    obj_value = self._build_and_fit_model(trial, *args, **copied_kwargs)\n",
      "  File \"/home/roderickperez/.local/lib/python3.10/site-packages/keras_tuner/engine/tuner.py\", line 214, in _build_and_fit_model\n",
      "    results = self.hypermodel.fit(hp, model, *args, **kwargs)\n",
      "  File \"/home/roderickperez/.local/lib/python3.10/site-packages/keras_tuner/engine/hypermodel.py\", line 144, in fit\n",
      "    return model.fit(*args, **kwargs)\n",
      "  File \"/usr/lib/python3/dist-packages/keras/utils/traceback_utils.py\", line 70, in error_handler\n",
      "    raise e.with_traceback(filtered_tb) from None\n",
      "  File \"/tmp/__autograph_generated_filevhzlhbb5.py\", line 15, in tf__train_function\n",
      "    retval_ = ag__.converted_call(ag__.ld(step_function), (ag__.ld(self), ag__.ld(iterator)), None, fscope)\n",
      "ValueError: in user code:\n",
      "\n",
      "    File \"/usr/lib/python3/dist-packages/keras/engine/training.py\", line 1338, in train_function  *\n",
      "        return step_function(self, iterator)\n",
      "    File \"/usr/lib/python3/dist-packages/keras/engine/training.py\", line 1322, in step_function  **\n",
      "        outputs = model.distribute_strategy.run(run_step, args=(data,))\n",
      "    File \"/usr/lib/python3/dist-packages/keras/engine/training.py\", line 1303, in run_step  **\n",
      "        outputs = model.train_step(data)\n",
      "    File \"/usr/lib/python3/dist-packages/keras/engine/training.py\", line 1080, in train_step\n",
      "        y_pred = self(x, training=True)\n",
      "    File \"/usr/lib/python3/dist-packages/keras/utils/traceback_utils.py\", line 70, in error_handler\n",
      "        raise e.with_traceback(filtered_tb) from None\n",
      "    File \"/usr/lib/python3/dist-packages/keras/engine/input_spec.py\", line 253, in assert_input_compatibility\n",
      "        raise ValueError(\n",
      "\n",
      "    ValueError: Exception encountered when calling layer 'sequential' (type Sequential).\n",
      "    \n",
      "    Input 0 of layer \"conv2d\" is incompatible with the layer: expected min_ndim=4, found ndim=3. Full shape received: (32, 28, 28)\n",
      "    \n",
      "    Call arguments received by layer 'sequential' (type Sequential):\n",
      "      • inputs=tf.Tensor(shape=(32, 28, 28), dtype=float32)\n",
      "      • training=True\n",
      "      • mask=None\n",
      "\n",
      "\n"
     ]
    }
   ],
   "source": [
    "tuner4.results_summary()"
   ]
  },
  {
   "cell_type": "code",
   "execution_count": null,
   "metadata": {},
   "outputs": [
    {
     "name": "stdout",
     "output_type": "stream",
     "text": [
      "Epoch 1/5\n",
      "1500/1500 [==============================] - 10s 6ms/step - loss: 0.1124 - accuracy: 0.9656 - val_loss: 0.0560 - val_accuracy: 0.9837\n",
      "Epoch 2/5\n",
      "1500/1500 [==============================] - 9s 6ms/step - loss: 0.0385 - accuracy: 0.9879 - val_loss: 0.0428 - val_accuracy: 0.9863\n",
      "Epoch 3/5\n",
      "1500/1500 [==============================] - 12s 8ms/step - loss: 0.0240 - accuracy: 0.9924 - val_loss: 0.0463 - val_accuracy: 0.9874\n",
      "Epoch 4/5\n",
      "1500/1500 [==============================] - 20s 13ms/step - loss: 0.0142 - accuracy: 0.9951 - val_loss: 0.0667 - val_accuracy: 0.9847\n",
      "Epoch 5/5\n",
      "1500/1500 [==============================] - 20s 13ms/step - loss: 0.0122 - accuracy: 0.9962 - val_loss: 0.0585 - val_accuracy: 0.9871\n"
     ]
    }
   ],
   "source": [
    "best_hps4 = tuner4.get_best_hyperparameters(num_trials=1)[0]\n",
    "## Build the model with the best hyperparameters\n",
    "\n",
    "model4 = tuner4.hypermodel.build(best_hps4)\n",
    "history4 = model4.fit(x_train, y_train,epochs=5, validation_split=0.2, callbacks=[stop_early])"
   ]
  },
  {
   "cell_type": "code",
   "execution_count": null,
   "metadata": {},
   "outputs": [
    {
     "data": {
      "image/png": "[encoded data removed]",
      "text/plain": [
       "<Figure size 640x480 with 1 Axes>"
      ]
     },
     "metadata": {},
     "output_type": "display_data"
    }
   ],
   "source": [
    "# Plot the learning curves for training and validation accuracy/loss for the best model\n",
    "plt.plot(history4.history['accuracy'], label='accuracy')\n",
    "plt.plot(history4.history['val_accuracy'], label = 'val_accuracy')\n",
    "plt.xlabel('Epoch')\n",
    "plt.ylabel('Accuracy/Loss')\n",
    "plt.ylim([0.5, 1])\n",
    "plt.legend(loc='lower right')\n",
    "plt.title('Best Model | Random Search {}'.format(exec_time4))\n",
    "plt.show()"
   ]
  },
  {
   "cell_type": "code",
   "execution_count": null,
   "metadata": {},
   "outputs": [
    {
     "data": {
      "image/png": "[encoded data removed]",
      "text/plain": [
       "<Figure size 640x480 with 1 Axes>"
      ]
     },
     "metadata": {},
     "output_type": "display_data"
    }
   ],
   "source": [
    "# Plot the loss for the best model\n",
    "plt.plot(history4.history['loss'], label='loss')\n",
    "plt.plot(history4.history['val_loss'], label = 'val_loss')\n",
    "plt.xlabel('Epoch')\n",
    "plt.ylabel('Loss')\n",
    "plt.ylim([0.5, 1])\n",
    "plt.legend(loc='lower right')\n",
    "plt.title('Best Model')\n",
    "plt.show()"
   ]
  },
  {
   "cell_type": "markdown",
   "metadata": {},
   "source": [
    "----"
   ]
  },
  {
   "cell_type": "code",
   "execution_count": null,
   "metadata": {},
   "outputs": [
    {
     "name": "stdout",
     "output_type": "stream",
     "text": [
      "Trial 4 Complete [00h 01m 12s]\n",
      "val_accuracy: 0.11349999904632568\n",
      "\n",
      "Best val_accuracy So Far: 0.986299991607666\n",
      "Total elapsed time: 00h 03m 40s\n",
      "\n",
      "Search: Running Trial #5\n",
      "\n",
      "Value             |Best Value So Far |Hyperparameter\n",
      "6                 |6                 |num_layers\n",
      "32                |112               |conv_1_filter\n",
      "5                 |3                 |conv_1_kernel\n",
      "112               |64                |conv_2_filter\n",
      "5                 |3                 |conv_2_kernel\n",
      "96                |80                |dense_1_units\n",
      "0.01              |0.001             |learning_rate\n",
      "80                |32                |conv_3_filter\n",
      "5                 |3                 |conv_3_kernel\n",
      "96                |32                |conv_4_filter\n",
      "3                 |3                 |conv_4_kernel\n",
      "64                |32                |conv_5_filter\n",
      "5                 |3                 |conv_5_kernel\n",
      "80                |32                |conv_6_filter\n",
      "5                 |3                 |conv_6_kernel\n",
      "32                |None              |conv_7_filter\n",
      "3                 |None              |conv_7_kernel\n",
      "80                |None              |conv_8_filter\n",
      "3                 |None              |conv_8_kernel\n",
      "2                 |2                 |tuner/epochs\n",
      "0                 |0                 |tuner/initial_epoch\n",
      "1                 |1                 |tuner/bracket\n",
      "0                 |0                 |tuner/round\n",
      "\n",
      "Epoch 1/2\n",
      "   4/1875 [..............................] - ETA: 32s - loss: 195.6257 - accuracy: 0.1250  WARNING:tensorflow:Callback method `on_train_batch_end` is slow compared to the batch time (batch time: 0.0053s vs `on_train_batch_end` time: 0.0096s). Check your callbacks.\n",
      "1875/1875 [==============================] - 36s 17ms/step - loss: 2.7151 - accuracy: 0.1086 - val_loss: 2.3035 - val_accuracy: 0.1135\n",
      "Epoch 2/2\n",
      "1875/1875 [==============================] - 33s 17ms/step - loss: 2.3026 - accuracy: 0.1089 - val_loss: 2.3018 - val_accuracy: 0.1135\n"
     ]
    }
   ],
   "source": [
    "# Build Model\n",
    "def build_model5(hp):\n",
    "    model5 = tf.keras.Sequential()\n",
    "    \n",
    "    # Input layer\n",
    "    model5.add(keras.layers.InputLayer(input_shape=(28, 28, 1)))\n",
    "    \n",
    "    # Add Conv2D layers iteratively\n",
    "    for i in range(hp.Int('num_layers', 2, 10, step=2)):\n",
    "        model5.add(keras.layers.Conv2D(\n",
    "            filters = hp.Int(f'conv_{i+1}_filter', min_value=32, max_value=128, step=16),\n",
    "            kernel_size = hp.Choice(f'conv_{i+1}_kernel', values = [3,5]),\n",
    "            activation = 'relu'\n",
    "        ))\n",
    "    \n",
    "    model5.add(keras.layers.Flatten())\n",
    "    model5.add(keras.layers.Dense(\n",
    "        units = hp.Int('dense_1_units', min_value=32, max_value=128, step=16),\n",
    "        activation = 'relu'\n",
    "    ))\n",
    "    model5.add(keras.layers.Dense(10, activation='softmax'))\n",
    "\n",
    "    model5.compile(optimizer=keras.optimizers.Adam(hp.Choice('learning_rate', values=[1e-2, 1e-3])),\n",
    "                loss='sparse_categorical_crossentropy',\n",
    "                metrics=['accuracy'])\n",
    "    \n",
    "    return model5\n",
    "\n",
    "tuner5 = kt.Hyperband(\n",
    "    build_model5,\n",
    "    objective='val_accuracy',\n",
    "    max_epochs=5,\n",
    "    factor=3,\n",
    "    directory='KerasTuner/output',\n",
    "    project_name='MNIST_KerasTuner5'\n",
    ")\n",
    "\n",
    "tuner5.search_space_summary()\n",
    "tuner5.search(x_train, y_train,\n",
    "             epochs=5,\n",
    "             validation_data=(x_test, y_test),\n",
    "             callbacks=[stop_early])\n"
   ]
  },
  {
   "cell_type": "code",
   "execution_count": null,
   "metadata": {},
   "outputs": [],
   "source": []
  }
 ],
 "metadata": {
  "kernelspec": {
   "display_name": "Python 3",
   "language": "python",
   "name": "python3"
  },
  "language_info": {
   "codemirror_mode": {
    "name": "ipython",
    "version": 3
   },
   "file_extension": ".py",
   "mimetype": "text/x-python",
   "name": "python",
   "nbconvert_exporter": "python",
   "pygments_lexer": "ipython3",
   "version": "3.10.12"
  },
  "orig_nbformat": 4
 },
 "nbformat": 4,
 "nbformat_minor": 2
}
