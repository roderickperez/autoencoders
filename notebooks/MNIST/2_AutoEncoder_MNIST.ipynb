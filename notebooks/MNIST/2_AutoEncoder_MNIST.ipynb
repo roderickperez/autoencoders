{
 "cells": [
  {
   "cell_type": "markdown",
   "metadata": {},
   "source": [
    "# 2. Convolutional AutoEncoder MNIST\n",
    "\n",
    "Reference: https://www.youtube.com/watch?v=ebPq0cILZV8"
   ]
  },
  {
   "cell_type": "markdown",
   "metadata": {},
   "source": [
    "## Input libraries"
   ]
  },
  {
   "cell_type": "code",
   "execution_count": 1,
   "metadata": {},
   "outputs": [],
   "source": [
    "import warnings\n",
    "warnings.filterwarnings('ignore')"
   ]
  },
  {
   "cell_type": "code",
   "execution_count": 2,
   "metadata": {},
   "outputs": [],
   "source": [
    "# TensorFlow\n",
    "import tensorflow as tf"
   ]
  },
  {
   "cell_type": "code",
   "execution_count": 3,
   "metadata": {},
   "outputs": [],
   "source": [
    "# Keras\n",
    "from keras.datasets import mnist\n",
    "\n",
    "from keras.models import Model\n",
    "from keras.layers import Input, Conv2D, MaxPool2D, UpSampling2D # Dense"
   ]
  },
  {
   "cell_type": "code",
   "execution_count": 4,
   "metadata": {},
   "outputs": [],
   "source": [
    "# Other Libraries\n",
    "import numpy as np\n",
    "import matplotlib.pyplot as plt"
   ]
  },
  {
   "cell_type": "code",
   "execution_count": 5,
   "metadata": {},
   "outputs": [
    {
     "data": {
      "text/plain": [
       "(60000, 28, 28)"
      ]
     },
     "execution_count": 5,
     "metadata": {},
     "output_type": "execute_result"
    }
   ],
   "source": [
    "(X_train, _), (X_test, _) = mnist.load_data()\n",
    "X_train.shape"
   ]
  },
  {
   "cell_type": "code",
   "execution_count": 6,
   "metadata": {},
   "outputs": [
    {
     "data": {
      "text/plain": [
       "<matplotlib.image.AxesImage at 0x7f783b481870>"
      ]
     },
     "execution_count": 6,
     "metadata": {},
     "output_type": "execute_result"
    },
    {
     "data": {
      "image/png": "[encoded data removed]",
      "text/plain": [
       "<Figure size 640x480 with 1 Axes>"
      ]
     },
     "metadata": {},
     "output_type": "display_data"
    }
   ],
   "source": [
    "# Visualize one image\n",
    "plt.imshow(X_train[0], cmap='gray')"
   ]
  },
  {
   "cell_type": "markdown",
   "metadata": {},
   "source": [
    "### Preprocess the data"
   ]
  },
  {
   "cell_type": "code",
   "execution_count": 7,
   "metadata": {},
   "outputs": [
    {
     "data": {
      "text/plain": [
       "28"
      ]
     },
     "execution_count": 7,
     "metadata": {},
     "output_type": "execute_result"
    }
   ],
   "source": [
    "X_train[0].shape[0]"
   ]
  },
  {
   "cell_type": "code",
   "execution_count": 8,
   "metadata": {},
   "outputs": [
    {
     "data": {
      "text/plain": [
       "60000"
      ]
     },
     "execution_count": 8,
     "metadata": {},
     "output_type": "execute_result"
    }
   ],
   "source": [
    "X_train.shape[0]"
   ]
  },
  {
   "cell_type": "code",
   "execution_count": 9,
   "metadata": {},
   "outputs": [
    {
     "data": {
      "text/plain": [
       "784"
      ]
     },
     "execution_count": 9,
     "metadata": {},
     "output_type": "execute_result"
    }
   ],
   "source": [
    "28*28"
   ]
  },
  {
   "cell_type": "code",
   "execution_count": 10,
   "metadata": {},
   "outputs": [
    {
     "data": {
      "text/plain": [
       "(60000, 28, 28)"
      ]
     },
     "execution_count": 10,
     "metadata": {},
     "output_type": "execute_result"
    }
   ],
   "source": [
    "X_train.shape"
   ]
  },
  {
   "cell_type": "code",
   "execution_count": 11,
   "metadata": {},
   "outputs": [
    {
     "data": {
      "text/plain": [
       "(10000, 28, 28)"
      ]
     },
     "execution_count": 11,
     "metadata": {},
     "output_type": "execute_result"
    }
   ],
   "source": [
    "X_test.shape"
   ]
  },
  {
   "cell_type": "markdown",
   "metadata": {},
   "source": [
    "x_train contains 60000 images of 28x28 pixels each. Now, we need to flatten the images into vectors of 28x28 = 784 pixels each. The result is that x_train will be a matrix of 6000 x 784 (28*28). We will repeat the same for x_test 10000 x 784 (28*28)."
   ]
  },
  {
   "cell_type": "code",
   "execution_count": 12,
   "metadata": {},
   "outputs": [
    {
     "data": {
      "text/plain": [
       "28"
      ]
     },
     "execution_count": 12,
     "metadata": {},
     "output_type": "execute_result"
    }
   ],
   "source": [
    "X_test[0].shape[1]"
   ]
  },
  {
   "cell_type": "code",
   "execution_count": 13,
   "metadata": {},
   "outputs": [
    {
     "data": {
      "text/plain": [
       "(60000, 28, 28, 1)"
      ]
     },
     "execution_count": 13,
     "metadata": {},
     "output_type": "execute_result"
    }
   ],
   "source": [
    "# Convert 2D image into 1D vector\n",
    "X_train = X_train.reshape(X_train.shape[0], X_train[0].shape[0], X_train[0].shape[1], 1)\n",
    "X_train.shape"
   ]
  },
  {
   "cell_type": "code",
   "execution_count": 14,
   "metadata": {},
   "outputs": [
    {
     "data": {
      "text/plain": [
       "(10000, 28, 28, 1)"
      ]
     },
     "execution_count": 14,
     "metadata": {},
     "output_type": "execute_result"
    }
   ],
   "source": [
    "X_test = X_test.reshape(X_test.shape[0], X_test[0].shape[1], X_test[0].shape[1], 1)\n",
    "X_test.shape"
   ]
  },
  {
   "cell_type": "markdown",
   "metadata": {},
   "source": [
    "Check the amplitude of the values in the x_train and x_test matrices. The values are between 0 and 255. We will normalize the values between 0 and 1 by dividing by 255."
   ]
  },
  {
   "cell_type": "code",
   "execution_count": 15,
   "metadata": {},
   "outputs": [
    {
     "data": {
      "text/plain": [
       "255"
      ]
     },
     "execution_count": 15,
     "metadata": {},
     "output_type": "execute_result"
    }
   ],
   "source": [
    "X_train.max()"
   ]
  },
  {
   "cell_type": "markdown",
   "metadata": {},
   "source": [
    "Normalize the data dividing the dataset by the max number, in this case 255."
   ]
  },
  {
   "cell_type": "code",
   "execution_count": 16,
   "metadata": {},
   "outputs": [],
   "source": [
    "X_train = X_train.astype('float32')/255\n",
    "X_test = X_test.astype('float32')/255"
   ]
  },
  {
   "cell_type": "markdown",
   "metadata": {},
   "source": [
    "Check if the values are between 0 and 1."
   ]
  },
  {
   "cell_type": "code",
   "execution_count": 17,
   "metadata": {},
   "outputs": [
    {
     "data": {
      "text/plain": [
       "1.0"
      ]
     },
     "execution_count": 17,
     "metadata": {},
     "output_type": "execute_result"
    }
   ],
   "source": [
    "X_train.max()"
   ]
  },
  {
   "cell_type": "code",
   "execution_count": 18,
   "metadata": {},
   "outputs": [
    {
     "data": {
      "text/plain": [
       "60000"
      ]
     },
     "execution_count": 18,
     "metadata": {},
     "output_type": "execute_result"
    }
   ],
   "source": [
    "X_train.shape[0]"
   ]
  },
  {
   "cell_type": "code",
   "execution_count": 19,
   "metadata": {},
   "outputs": [
    {
     "data": {
      "text/plain": [
       "28"
      ]
     },
     "execution_count": 19,
     "metadata": {},
     "output_type": "execute_result"
    }
   ],
   "source": [
    "X_train.shape[1]"
   ]
  },
  {
   "cell_type": "markdown",
   "metadata": {},
   "source": [
    "## Model"
   ]
  },
  {
   "cell_type": "code",
   "execution_count": 20,
   "metadata": {},
   "outputs": [
    {
     "data": {
      "text/plain": [
       "TensorShape([None, 28, 28, 1])"
      ]
     },
     "execution_count": 20,
     "metadata": {},
     "output_type": "execute_result"
    }
   ],
   "source": [
    "# Define Layers\n",
    "input_layer = Input(shape=(X_train[0].shape[0], X_train[0].shape[1], 1)) # (28, 28, 1)\n",
    "input_layer.shape"
   ]
  },
  {
   "cell_type": "code",
   "execution_count": 21,
   "metadata": {},
   "outputs": [],
   "source": [
    "# Encoder\n",
    "x = Conv2D(16, (3, 3), activation='relu', padding='same')(input_layer) # (6000, 28, 28, 16)\n",
    "x = MaxPool2D(pool_size = (2,2), padding='same')(x) # (6000, 14, 14, 16)\n",
    "x = Conv2D(8, (3, 3), activation='relu', padding='same')(x) # (6000, 14, 14, 8)\n",
    "x = MaxPool2D(pool_size = (2,2), padding='same')(x) # (6000, 7, 7, 8)\n",
    "x = Conv2D(8, (3, 3), activation='relu', padding='same')(x) # (6000, 7, 7, 8)\n",
    "encoded = MaxPool2D(pool_size = (2,2), padding='same')(x) # (6000, 4, 4, 8)"
   ]
  },
  {
   "cell_type": "code",
   "execution_count": 22,
   "metadata": {},
   "outputs": [],
   "source": [
    "# Decoder\n",
    "x = Conv2D(8, (3, 3), activation='relu', padding='same')(encoded) # (4, 4, 8)\n",
    "x = UpSampling2D((2, 2))(x) # (8, 8, 8)\n",
    "x = Conv2D(8, (3, 3), activation='relu', padding='same')(x) # (8, 8, 8)\n",
    "x = UpSampling2D((2, 2))(x) # (16, 16, 8)\n",
    "x = Conv2D(16, (3, 3), activation='relu')(x) # (14, 14, 16)\n",
    "x = UpSampling2D((2, 2))(x) # (28, 28, 16)\n",
    "decoded = Conv2D(1, (3, 3), activation='sigmoid', padding='same')(x) # (28, 28, 1)"
   ]
  },
  {
   "cell_type": "code",
   "execution_count": 23,
   "metadata": {},
   "outputs": [
    {
     "name": "stdout",
     "output_type": "stream",
     "text": [
      "Model: \"model\"\n",
      "_________________________________________________________________\n",
      " Layer (type)                Output Shape              Param #   \n",
      "=================================================================\n",
      " input_1 (InputLayer)        [(None, 28, 28, 1)]       0         \n",
      "                                                                 \n",
      " conv2d (Conv2D)             (None, 28, 28, 16)        160       \n",
      "                                                                 \n",
      " max_pooling2d (MaxPooling2  (None, 14, 14, 16)        0         \n",
      " D)                                                              \n",
      "                                                                 \n",
      " conv2d_1 (Conv2D)           (None, 14, 14, 8)         1160      \n",
      "                                                                 \n",
      " max_pooling2d_1 (MaxPoolin  (None, 7, 7, 8)           0         \n",
      " g2D)                                                            \n",
      "                                                                 \n",
      " conv2d_2 (Conv2D)           (None, 7, 7, 8)           584       \n",
      "                                                                 \n",
      " max_pooling2d_2 (MaxPoolin  (None, 4, 4, 8)           0         \n",
      " g2D)                                                            \n",
      "                                                                 \n",
      " conv2d_3 (Conv2D)           (None, 4, 4, 8)           584       \n",
      "                                                                 \n",
      " up_sampling2d (UpSampling2  (None, 8, 8, 8)           0         \n",
      " D)                                                              \n",
      "                                                                 \n",
      " conv2d_4 (Conv2D)           (None, 8, 8, 8)           584       \n",
      "                                                                 \n",
      " up_sampling2d_1 (UpSamplin  (None, 16, 16, 8)         0         \n",
      " g2D)                                                            \n",
      "                                                                 \n",
      " conv2d_5 (Conv2D)           (None, 14, 14, 16)        1168      \n",
      "                                                                 \n",
      " up_sampling2d_2 (UpSamplin  (None, 28, 28, 16)        0         \n",
      " g2D)                                                            \n",
      "                                                                 \n",
      " conv2d_6 (Conv2D)           (None, 28, 28, 1)         145       \n",
      "                                                                 \n",
      "=================================================================\n",
      "Total params: 4385 (17.13 KB)\n",
      "Trainable params: 4385 (17.13 KB)\n",
      "Non-trainable params: 0 (0.00 Byte)\n",
      "_________________________________________________________________\n"
     ]
    }
   ],
   "source": [
    "# Connect Layers intop the Model\n",
    "autoencoder = Model(input_layer, decoded)\n",
    "autoencoder.summary()"
   ]
  },
  {
   "cell_type": "code",
   "execution_count": 24,
   "metadata": {},
   "outputs": [],
   "source": [
    "# Compile the model using MSE loss and Adam Optimizer\n",
    "autoencoder.compile(loss='binary_crossentropy', optimizer='adam')"
   ]
  },
  {
   "cell_type": "code",
   "execution_count": 25,
   "metadata": {},
   "outputs": [
    {
     "name": "stdout",
     "output_type": "stream",
     "text": [
      "Epoch 1/50\n",
      "469/469 [==============================] - 9s 9ms/step - loss: 0.2112 - val_loss: 0.1462\n",
      "Epoch 2/50\n",
      "469/469 [==============================] - 3s 7ms/step - loss: 0.1336 - val_loss: 0.1239\n",
      "Epoch 3/50\n",
      "469/469 [==============================] - 3s 6ms/step - loss: 0.1211 - val_loss: 0.1168\n",
      "Epoch 4/50\n",
      "469/469 [==============================] - 3s 6ms/step - loss: 0.1157 - val_loss: 0.1126\n",
      "Epoch 5/50\n",
      "469/469 [==============================] - 3s 6ms/step - loss: 0.1122 - val_loss: 0.1095\n",
      "Epoch 6/50\n",
      "469/469 [==============================] - 3s 6ms/step - loss: 0.1095 - val_loss: 0.1076\n",
      "Epoch 7/50\n",
      "469/469 [==============================] - 3s 7ms/step - loss: 0.1073 - val_loss: 0.1053\n",
      "Epoch 8/50\n",
      "469/469 [==============================] - 3s 6ms/step - loss: 0.1056 - val_loss: 0.1036\n",
      "Epoch 9/50\n",
      "469/469 [==============================] - -3568s -7623339us/step - loss: 0.1041 - val_loss: 0.1025\n",
      "Epoch 10/50\n",
      "469/469 [==============================] - 3s 7ms/step - loss: 0.1029 - val_loss: 0.1011\n",
      "Epoch 11/50\n",
      "469/469 [==============================] - 3s 7ms/step - loss: 0.1019 - val_loss: 0.1006\n",
      "Epoch 12/50\n",
      "469/469 [==============================] - 3s 7ms/step - loss: 0.1009 - val_loss: 0.0994\n",
      "Epoch 13/50\n",
      "469/469 [==============================] - 3s 7ms/step - loss: 0.1001 - val_loss: 0.0988\n",
      "Epoch 14/50\n",
      "469/469 [==============================] - 3s 7ms/step - loss: 0.0994 - val_loss: 0.0977\n",
      "Epoch 15/50\n",
      "469/469 [==============================] - 3s 7ms/step - loss: 0.0987 - val_loss: 0.0972\n",
      "Epoch 16/50\n",
      "469/469 [==============================] - 3s 6ms/step - loss: 0.0981 - val_loss: 0.0968\n",
      "Epoch 17/50\n",
      "469/469 [==============================] - 3s 7ms/step - loss: 0.0975 - val_loss: 0.0963\n",
      "Epoch 18/50\n",
      "469/469 [==============================] - 3s 7ms/step - loss: 0.0970 - val_loss: 0.0961\n",
      "Epoch 19/50\n",
      "469/469 [==============================] - 3s 7ms/step - loss: 0.0966 - val_loss: 0.0951\n",
      "Epoch 20/50\n",
      "469/469 [==============================] - 3s 7ms/step - loss: 0.0961 - val_loss: 0.0949\n",
      "Epoch 21/50\n",
      "469/469 [==============================] - 3s 6ms/step - loss: 0.0957 - val_loss: 0.0943\n",
      "Epoch 22/50\n",
      "469/469 [==============================] - 3s 7ms/step - loss: 0.0953 - val_loss: 0.0940\n",
      "Epoch 23/50\n",
      "469/469 [==============================] - 3s 7ms/step - loss: 0.0949 - val_loss: 0.0939\n",
      "Epoch 24/50\n",
      "469/469 [==============================] - 3s 7ms/step - loss: 0.0946 - val_loss: 0.0935\n",
      "Epoch 25/50\n",
      "469/469 [==============================] - 3s 7ms/step - loss: 0.0942 - val_loss: 0.0929\n",
      "Epoch 26/50\n",
      "469/469 [==============================] - 3s 7ms/step - loss: 0.0939 - val_loss: 0.0928\n",
      "Epoch 27/50\n",
      "469/469 [==============================] - 3s 7ms/step - loss: 0.0937 - val_loss: 0.0924\n",
      "Epoch 28/50\n",
      "469/469 [==============================] - 3s 7ms/step - loss: 0.0934 - val_loss: 0.0923\n",
      "Epoch 29/50\n",
      "469/469 [==============================] - 3s 7ms/step - loss: 0.0932 - val_loss: 0.0920\n",
      "Epoch 30/50\n",
      "469/469 [==============================] - 3s 7ms/step - loss: 0.0929 - val_loss: 0.0918\n",
      "Epoch 31/50\n",
      "469/469 [==============================] - 3s 7ms/step - loss: 0.0927 - val_loss: 0.0915\n",
      "Epoch 32/50\n",
      "469/469 [==============================] - 3s 7ms/step - loss: 0.0925 - val_loss: 0.0914\n",
      "Epoch 33/50\n",
      "469/469 [==============================] - 3s 7ms/step - loss: 0.0923 - val_loss: 0.0915\n",
      "Epoch 34/50\n",
      "469/469 [==============================] - 3s 7ms/step - loss: 0.0921 - val_loss: 0.0909\n",
      "Epoch 35/50\n",
      "469/469 [==============================] - 3s 7ms/step - loss: 0.0920 - val_loss: 0.0909\n",
      "Epoch 36/50\n",
      "469/469 [==============================] - 3s 7ms/step - loss: 0.0918 - val_loss: 0.0905\n",
      "Epoch 37/50\n",
      "469/469 [==============================] - 3s 7ms/step - loss: 0.0917 - val_loss: 0.0909\n",
      "Epoch 38/50\n",
      "469/469 [==============================] - 3s 7ms/step - loss: 0.0915 - val_loss: 0.0903\n",
      "Epoch 39/50\n",
      "469/469 [==============================] - 3s 7ms/step - loss: 0.0914 - val_loss: 0.0902\n",
      "Epoch 40/50\n",
      "469/469 [==============================] - 3s 7ms/step - loss: 0.0912 - val_loss: 0.0901\n",
      "Epoch 41/50\n",
      "469/469 [==============================] - 3s 7ms/step - loss: 0.0911 - val_loss: 0.0901\n",
      "Epoch 42/50\n",
      "469/469 [==============================] - 3s 7ms/step - loss: 0.0909 - val_loss: 0.0901\n",
      "Epoch 43/50\n",
      "469/469 [==============================] - 3s 7ms/step - loss: 0.0908 - val_loss: 0.0897\n",
      "Epoch 44/50\n",
      "469/469 [==============================] - 3s 7ms/step - loss: 0.0907 - val_loss: 0.0895\n",
      "Epoch 45/50\n",
      "469/469 [==============================] - 3s 7ms/step - loss: 0.0905 - val_loss: 0.0897\n",
      "Epoch 46/50\n",
      "469/469 [==============================] - 3s 7ms/step - loss: 0.0904 - val_loss: 0.0894\n",
      "Epoch 47/50\n",
      "469/469 [==============================] - 3s 7ms/step - loss: 0.0903 - val_loss: 0.0891\n",
      "Epoch 48/50\n",
      "469/469 [==============================] - 3s 7ms/step - loss: 0.0902 - val_loss: 0.0889\n",
      "Epoch 49/50\n",
      "469/469 [==============================] - 3s 7ms/step - loss: 0.0901 - val_loss: 0.0889\n",
      "Epoch 50/50\n",
      "469/469 [==============================] - 3s 7ms/step - loss: 0.0899 - val_loss: 0.0887\n"
     ]
    }
   ],
   "source": [
    "# Fit training data to the model\n",
    "history = autoencoder.fit(X_train, X_train, epochs=50, batch_size=128, validation_data=(X_test, X_test))"
   ]
  },
  {
   "cell_type": "code",
   "execution_count": 26,
   "metadata": {},
   "outputs": [
    {
     "data": {
      "image/png": "[encoded data removed]",
      "text/plain": [
       "<Figure size 640x480 with 1 Axes>"
      ]
     },
     "metadata": {},
     "output_type": "display_data"
    }
   ],
   "source": [
    "# Plot the training loss  and validation loss\n",
    "plt.plot(history.history['loss'])\n",
    "plt.plot(history.history['val_loss'])\n",
    "plt.title('Model Loss')\n",
    "plt.ylabel('Loss')\n",
    "plt.xlabel('Epoch')\n",
    "plt.legend(['Train', 'Validation'], loc='upper right')\n",
    "plt.show()"
   ]
  },
  {
   "cell_type": "code",
   "execution_count": 27,
   "metadata": {},
   "outputs": [
    {
     "name": "stdout",
     "output_type": "stream",
     "text": [
      "Model: \"model_1\"\n",
      "_________________________________________________________________\n",
      " Layer (type)                Output Shape              Param #   \n",
      "=================================================================\n",
      " input_1 (InputLayer)        [(None, 28, 28, 1)]       0         \n",
      "                                                                 \n",
      " conv2d (Conv2D)             (None, 28, 28, 16)        160       \n",
      "                                                                 \n",
      " max_pooling2d (MaxPooling2  (None, 14, 14, 16)        0         \n",
      " D)                                                              \n",
      "                                                                 \n",
      " conv2d_1 (Conv2D)           (None, 14, 14, 8)         1160      \n",
      "                                                                 \n",
      " max_pooling2d_1 (MaxPoolin  (None, 7, 7, 8)           0         \n",
      " g2D)                                                            \n",
      "                                                                 \n",
      " conv2d_2 (Conv2D)           (None, 7, 7, 8)           584       \n",
      "                                                                 \n",
      " max_pooling2d_2 (MaxPoolin  (None, 4, 4, 8)           0         \n",
      " g2D)                                                            \n",
      "                                                                 \n",
      "=================================================================\n",
      "Total params: 1904 (7.44 KB)\n",
      "Trainable params: 1904 (7.44 KB)\n",
      "Non-trainable params: 0 (0.00 Byte)\n",
      "_________________________________________________________________\n"
     ]
    }
   ],
   "source": [
    "# Encoder Model \n",
    "encoder = Model(input_layer, encoded)\n",
    "encoder.summary()"
   ]
  },
  {
   "cell_type": "code",
   "execution_count": 28,
   "metadata": {},
   "outputs": [
    {
     "name": "stdout",
     "output_type": "stream",
     "text": [
      "Model: \"model_2\"\n",
      "_________________________________________________________________\n",
      " Layer (type)                Output Shape              Param #   \n",
      "=================================================================\n",
      " input_2 (InputLayer)        [(None, 4, 4, 8)]         0         \n",
      "                                                                 \n",
      " conv2d_3 (Conv2D)           (None, 4, 4, 8)           584       \n",
      "                                                                 \n",
      " up_sampling2d (UpSampling2  (None, 8, 8, 8)           0         \n",
      " D)                                                              \n",
      "                                                                 \n",
      " conv2d_4 (Conv2D)           (None, 8, 8, 8)           584       \n",
      "                                                                 \n",
      " up_sampling2d_1 (UpSamplin  (None, 16, 16, 8)         0         \n",
      " g2D)                                                            \n",
      "                                                                 \n",
      " conv2d_5 (Conv2D)           (None, 14, 14, 16)        1168      \n",
      "                                                                 \n",
      " up_sampling2d_2 (UpSamplin  (None, 28, 28, 16)        0         \n",
      " g2D)                                                            \n",
      "                                                                 \n",
      " conv2d_6 (Conv2D)           (None, 28, 28, 1)         145       \n",
      "                                                                 \n",
      "=================================================================\n",
      "Total params: 2481 (9.69 KB)\n",
      "Trainable params: 2481 (9.69 KB)\n",
      "Non-trainable params: 0 (0.00 Byte)\n",
      "_________________________________________________________________\n"
     ]
    }
   ],
   "source": [
    "# Decoder Model \n",
    "decoder_layer = Input(shape = (4, 4, 8))\n",
    "decoder = autoencoder.layers[7](decoder_layer)\n",
    "\n",
    "for layer in autoencoder.layers[8:]:\n",
    "    decoder = layer(decoder)\n",
    "\n",
    "decoder = Model(decoder_layer, decoder)\n",
    "decoder.summary()"
   ]
  },
  {
   "cell_type": "code",
   "execution_count": 29,
   "metadata": {},
   "outputs": [
    {
     "name": "stdout",
     "output_type": "stream",
     "text": [
      "313/313 [==============================] - 1s 1ms/step\n"
     ]
    },
    {
     "data": {
      "text/plain": [
       "(10000, 4, 4, 8)"
      ]
     },
     "execution_count": 29,
     "metadata": {},
     "output_type": "execute_result"
    }
   ],
   "source": [
    "# Encoder images for testing\n",
    "encoded_images = encoder.predict(X_test)\n",
    "encoded_images.shape"
   ]
  },
  {
   "cell_type": "code",
   "execution_count": 30,
   "metadata": {},
   "outputs": [
    {
     "name": "stdout",
     "output_type": "stream",
     "text": [
      "313/313 [==============================] - 1s 1ms/step\n"
     ]
    },
    {
     "data": {
      "text/plain": [
       "(10000, 28, 28, 1)"
      ]
     },
     "execution_count": 30,
     "metadata": {},
     "output_type": "execute_result"
    }
   ],
   "source": [
    "# Reconstrtuct images for testing\n",
    "decoded_images = decoder.predict(encoded_images, verbose = 1)\n",
    "decoded_images.shape"
   ]
  },
  {
   "cell_type": "code",
   "execution_count": 31,
   "metadata": {},
   "outputs": [
    {
     "data": {
      "text/plain": [
       "(10000, 28, 28)"
      ]
     },
     "execution_count": 31,
     "metadata": {},
     "output_type": "execute_result"
    }
   ],
   "source": [
    "decoded_images = decoded_images.reshape(decoded_images.shape[0], decoded_images.shape[1], decoded_images.shape[2])\n",
    "decoded_images.shape"
   ]
  },
  {
   "cell_type": "code",
   "execution_count": 32,
   "metadata": {},
   "outputs": [
    {
     "data": {
      "text/plain": [
       "<matplotlib.image.AxesImage at 0x7f770c476650>"
      ]
     },
     "execution_count": 32,
     "metadata": {},
     "output_type": "execute_result"
    },
    {
     "data": {
      "image/png": "[encoded data removed]",
      "text/plain": [
       "<Figure size 640x480 with 1 Axes>"
      ]
     },
     "metadata": {},
     "output_type": "display_data"
    }
   ],
   "source": [
    "plt.imshow(decoded_images[0], cmap='gray')"
   ]
  },
  {
   "cell_type": "code",
   "execution_count": 33,
   "metadata": {},
   "outputs": [
    {
     "data": {
      "text/plain": [
       "(28, 28)"
      ]
     },
     "execution_count": 33,
     "metadata": {},
     "output_type": "execute_result"
    }
   ],
   "source": [
    "decoded_images[0].shape"
   ]
  },
  {
   "cell_type": "code",
   "execution_count": 34,
   "metadata": {},
   "outputs": [
    {
     "data": {
      "text/plain": [
       "(10000, 28, 28)"
      ]
     },
     "execution_count": 34,
     "metadata": {},
     "output_type": "execute_result"
    }
   ],
   "source": [
    "# Reshape test image to 2D\n",
    "X_test = X_test.reshape(X_test.shape[0], X_test[0].shape[0], X_test[0].shape[1])\n",
    "X_test.shape"
   ]
  },
  {
   "cell_type": "code",
   "execution_count": 35,
   "metadata": {},
   "outputs": [
    {
     "data": {
      "text/plain": [
       "<matplotlib.image.AxesImage at 0x7f770c533100>"
      ]
     },
     "execution_count": 35,
     "metadata": {},
     "output_type": "execute_result"
    },
    {
     "data": {
      "image/png": "[encoded data removed]",
      "text/plain": [
       "<Figure size 640x480 with 1 Axes>"
      ]
     },
     "metadata": {},
     "output_type": "display_data"
    }
   ],
   "source": [
    "# Show test image\n",
    "plt.imshow(X_test[0], cmap='gray')"
   ]
  },
  {
   "cell_type": "code",
   "execution_count": 36,
   "metadata": {},
   "outputs": [
    {
     "data": {
      "image/png": "[encoded data removed]",
      "text/plain": [
       "<Figure size 1500x1500 with 3 Axes>"
      ]
     },
     "metadata": {},
     "output_type": "display_data"
    }
   ],
   "source": [
    "# Create a 1 row 3 column grid plot, where the 1st image is the test, 2nd is the output and 3rd is the difference between the two\n",
    "fig, axes = plt.subplots(1, 3, figsize=(15, 15))\n",
    "axes[0].imshow(X_test[0], cmap='gray')\n",
    "axes[1].imshow(decoded_images[0], cmap='gray')\n",
    "axes[2].imshow(X_test[0] - decoded_images[0], cmap='gray')\n",
    "plt.show()"
   ]
  },
  {
   "cell_type": "code",
   "execution_count": null,
   "metadata": {},
   "outputs": [],
   "source": []
  }
 ],
 "metadata": {
  "kernelspec": {
   "display_name": "seismicDenoisingAutoEncoder",
   "language": "python",
   "name": "python3"
  },
  "language_info": {
   "codemirror_mode": {
    "name": "ipython",
    "version": 3
   },
   "file_extension": ".py",
   "mimetype": "text/x-python",
   "name": "python",
   "nbconvert_exporter": "python",
   "pygments_lexer": "ipython3",
   "version": "3.10.12"
  },
  "orig_nbformat": 4
 },
 "nbformat": 4,
 "nbformat_minor": 2
}
