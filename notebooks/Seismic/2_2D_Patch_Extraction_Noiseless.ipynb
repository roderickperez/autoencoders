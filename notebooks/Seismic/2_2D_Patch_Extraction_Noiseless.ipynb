{
 "cells": [
  {
   "cell_type": "markdown",
   "metadata": {},
   "source": [
    "# 2. 2D Patch Extraction from 3D Volume NOISELESS"
   ]
  },
  {
   "cell_type": "code",
   "execution_count": 9,
   "metadata": {},
   "outputs": [],
   "source": [
    "# Turn off warnings\n",
    "import warnings\n",
    "\n",
    "warnings.filterwarnings('ignore')"
   ]
  },
  {
   "cell_type": "code",
   "execution_count": 10,
   "metadata": {},
   "outputs": [],
   "source": [
    "import numpy as np\n",
    "import matplotlib.pyplot as plt\n",
    "import matplotlib.patches as patches\n",
    "import segyio\n",
    "import os\n",
    "import pandas as pd"
   ]
  },
  {
   "cell_type": "code",
   "execution_count": 11,
   "metadata": {},
   "outputs": [],
   "source": [
    "filePath_Noiseless = '/home/roderickperez/DS_projects/autoencoders/data/InforPetrol/seismicOriginal/InfoP_noiseless.segy'"
   ]
  },
  {
   "cell_type": "markdown",
   "metadata": {},
   "source": [
    "### Load Noiseless Dataset"
   ]
  },
  {
   "cell_type": "code",
   "execution_count": null,
   "metadata": {},
   "outputs": [],
   "source": [
    "with segyio.open(filePath_Noiseless, mode = \"r\", iline = 189, xline = 193) as s:\n",
    "    cubeNoiseless = segyio.cube(s)"
   ]
  },
  {
   "cell_type": "code",
   "execution_count": null,
   "metadata": {},
   "outputs": [
    {
     "data": {
      "text/plain": [
       "(351, 4097, 1751)"
      ]
     },
     "execution_count": 5,
     "metadata": {},
     "output_type": "execute_result"
    }
   ],
   "source": [
    "cubeNoiseless.shape"
   ]
  },
  {
   "cell_type": "markdown",
   "metadata": {},
   "source": [
    "---"
   ]
  },
  {
   "cell_type": "code",
   "execution_count": null,
   "metadata": {},
   "outputs": [],
   "source": [
    "# Select a random value for the inline, crossline, time slice\n",
    "iline = 150 # np.random.randint(0, cubeNoisy.shape[0])\n",
    "xline = 2000 # np.random.randint(0, cubeNoisy.shape[1])\n",
    "time = 600 # np.random.randint(0, cubeNoisy.shape[2])"
   ]
  },
  {
   "cell_type": "markdown",
   "metadata": {},
   "source": [
    "---"
   ]
  },
  {
   "cell_type": "code",
   "execution_count": null,
   "metadata": {},
   "outputs": [
    {
     "data": {
      "text/plain": [
       "4.443157196044922"
      ]
     },
     "execution_count": 7,
     "metadata": {},
     "output_type": "execute_result"
    }
   ],
   "source": [
    "amplitude_max = np.percentile(cubeNoiseless, 98)\n",
    "amplitude_max"
   ]
  },
  {
   "cell_type": "code",
   "execution_count": null,
   "metadata": {},
   "outputs": [
    {
     "ename": "IndexError",
     "evalue": "index 800 is out of bounds for axis 0 with size 351",
     "output_type": "error",
     "traceback": [
      "\u001b[0;31m---------------------------------------------------------------------------\u001b[0m",
      "\u001b[0;31mIndexError\u001b[0m                                Traceback (most recent call last)",
      "Cell \u001b[0;32mIn[8], line 3\u001b[0m\n\u001b[1;32m      1\u001b[0m \u001b[39m# Visualize the inline\u001b[39;00m\n\u001b[1;32m      2\u001b[0m plt\u001b[39m.\u001b[39mfigure(figsize\u001b[39m=\u001b[39m(\u001b[39m20\u001b[39m, \u001b[39m6\u001b[39m))\n\u001b[0;32m----> 3\u001b[0m plt\u001b[39m.\u001b[39mimshow(cubeNoiseless[iline, :, :]\u001b[39m.\u001b[39mT, cmap \u001b[39m=\u001b[39m \u001b[39m'\u001b[39m\u001b[39mgray\u001b[39m\u001b[39m'\u001b[39m, aspect\u001b[39m=\u001b[39m\u001b[39m'\u001b[39m\u001b[39mequal\u001b[39m\u001b[39m'\u001b[39m, vmin \u001b[39m=\u001b[39m \u001b[39m-\u001b[39mamplitude_max, vmax \u001b[39m=\u001b[39m amplitude_max)\n\u001b[1;32m      4\u001b[0m plt\u001b[39m.\u001b[39mcolorbar()\n\u001b[1;32m      5\u001b[0m plt\u001b[39m.\u001b[39mxlabel(\u001b[39m'\u001b[39m\u001b[39mXlines\u001b[39m\u001b[39m'\u001b[39m, fontsize \u001b[39m=\u001b[39m \u001b[39m14\u001b[39m)\n",
      "\u001b[0;31mIndexError\u001b[0m: index 800 is out of bounds for axis 0 with size 351"
     ]
    },
    {
     "data": {
      "text/plain": [
       "<Figure size 2000x600 with 0 Axes>"
      ]
     },
     "metadata": {},
     "output_type": "display_data"
    }
   ],
   "source": [
    "# Visualize the inline\n",
    "plt.figure(figsize=(20, 6))\n",
    "plt.imshow(cubeNoiseless[iline, :, :].T, cmap = 'gray', aspect='equal', vmin = -amplitude_max, vmax = amplitude_max)\n",
    "plt.colorbar()\n",
    "plt.xlabel('Xlines', fontsize = 14)\n",
    "plt.ylabel('Time [ms]', fontsize = 14)\n",
    "plt.title('Noiseless | Inline %d' %iline, fontsize = 18)\n",
    "plt.savefig('/home/roderickperez/DS_projects/autoencoders/images/Seismic/InforP/Noiseless_Inline_%d.png' %iline)\n",
    "plt.show()"
   ]
  },
  {
   "cell_type": "code",
   "execution_count": null,
   "metadata": {},
   "outputs": [],
   "source": [
    "# Visualize the crossline\n",
    "plt.figure(figsize=(20, 6))\n",
    "plt.imshow(cubeNoiseless[:, xline, :].T, cmap = 'gray', aspect='equal', vmin = -amplitude_max, vmax = amplitude_max)\n",
    "plt.colorbar()\n",
    "plt.xlabel('Inlines', fontsize = 14)\n",
    "plt.ylabel('Time [ms]', fontsize = 14)\n",
    "plt.title('Noiseless | Xline %d' %xline, fontsize = 18)\n",
    "plt.savefig('/home/roderickperez/DS_projects/autoencoders/images/Seismic/InforP/Noiseless_Xline_%d.png' %xline)\n",
    "plt.show()"
   ]
  },
  {
   "cell_type": "code",
   "execution_count": null,
   "metadata": {},
   "outputs": [],
   "source": [
    "# Visualize the time slice\n",
    "plt.figure(figsize=(20, 6))\n",
    "plt.imshow(cubeNoiseless[:, :, time].T, cmap = 'gray', aspect='equal', vmin = -amplitude_max, vmax = amplitude_max)\n",
    "plt.colorbar()\n",
    "plt.xlabel('Inlines', fontsize = 14)\n",
    "plt.ylabel('Xlines', fontsize = 14)\n",
    "plt.title('Noiseless | Time %d' %time, fontsize = 18)\n",
    "plt.savefig('/home/roderickperez/DS_projects/autoencoders/images/Seismic/InforP/Noiseless_Xline_%d.png' %time)\n",
    "plt.show()"
   ]
  },
  {
   "cell_type": "markdown",
   "metadata": {},
   "source": [
    "---"
   ]
  },
  {
   "cell_type": "markdown",
   "metadata": {},
   "source": [
    "Compose image"
   ]
  },
  {
   "cell_type": "code",
   "execution_count": null,
   "metadata": {},
   "outputs": [],
   "source": [
    "import matplotlib.pyplot as plt\n",
    "\n",
    "plt.figure(figsize=(10,4))\n",
    "\n",
    "plt.subplot(3,7,(1, 17))\n",
    "# Change the frame color to red\n",
    "ax = plt.gca()\n",
    "ax.spines['bottom'].set_color('red')\n",
    "ax.spines['top'].set_color('red')\n",
    "ax.spines['right'].set_color('red')\n",
    "ax.spines['left'].set_color('red')\n",
    "\n",
    "plt.imshow(cubeNoiseless[iline, :, :].T, aspect = 'auto', cmap = 'gray', vmin = -amplitude_max, vmax = amplitude_max)\n",
    "plt.xlabel('Xlines', fontsize = 8)\n",
    "plt.ylabel('Time [ms]', fontsize = 8)\n",
    "plt.title('Inline %d' %iline, fontsize = 10)\n",
    "plt.xticks(fontsize = 6)\n",
    "plt.yticks(fontsize = 6)\n",
    "\n",
    "plt.axhline(y = time, color = 'magenta', linestyle = '--', linewidth = 1)\n",
    "plt.axvline(x = xline, color = 'lime', linestyle = '--', linewidth = 1)\n",
    "\n",
    "cb = plt.colorbar(orientation='horizontal', pad = 0.22, shrink = 0.8, aspect = 40)\n",
    "\n",
    "cb.ax.set_title('Amplitude', fontsize=8, weight='bold')\n",
    "cb.ax.tick_params(labelsize=6)\n",
    "\n",
    "plt.subplot(3,7,(4, 19))\n",
    "ax = plt.gca()\n",
    "ax.spines['bottom'].set_color('lime')\n",
    "ax.spines['top'].set_color('lime')\n",
    "ax.spines['right'].set_color('lime')\n",
    "ax.spines['left'].set_color('lime')\n",
    "\n",
    "plt.imshow(cubeNoiseless[:, xline, :].T, aspect = 'auto', cmap = 'gray', vmin = -amplitude_max, vmax = amplitude_max)\n",
    "plt.xlabel('Inlines', fontsize = 8)\n",
    "plt.ylabel('Time [ms]', fontsize = 8)\n",
    "plt.xticks(fontsize = 6)\n",
    "plt.yticks(fontsize = 6)\n",
    "plt.title('Xline %d' %xline, fontsize = 10)\n",
    "plt.axhline(y = time, color = 'magenta', linestyle = '--', linewidth = 1)\n",
    "plt.axvline(x = iline, color = 'red', linestyle = '--', linewidth = 1)\n",
    "\n",
    "\n",
    "plt.subplot(3,7,(6, 21))\n",
    "ax = plt.gca()\n",
    "ax.spines['bottom'].set_color('magenta')\n",
    "ax.spines['top'].set_color('magenta')\n",
    "ax.spines['right'].set_color('magenta')\n",
    "ax.spines['left'].set_color('magenta')\n",
    "\n",
    "plt.imshow(cubeNoiseless[:, :, time].T, aspect = 'auto' , cmap = 'gray', vmin = -amplitude_max, vmax = amplitude_max)\n",
    "plt.xlabel('Inlines', fontsize = 8)\n",
    "plt.ylabel('Xlines', fontsize = 8)\n",
    "plt.xticks(fontsize = 6)\n",
    "plt.yticks(fontsize = 6)\n",
    "plt.title('Time %d' %time, fontsize = 10)\n",
    "plt.axhline(y = xline, color = 'lime', linestyle = '--', linewidth = 1)\n",
    "plt.axvline(x = iline, color = 'red', linestyle = '--', linewidth = 1)\n",
    "\n",
    "plt.tight_layout(pad=3)\n",
    "plt.suptitle('Noiseless dataset', fontsize = 16)\n",
    "plt.show()"
   ]
  },
  {
   "cell_type": "markdown",
   "metadata": {},
   "source": [
    "---"
   ]
  },
  {
   "cell_type": "markdown",
   "metadata": {},
   "source": [
    "### Visualize Patches"
   ]
  },
  {
   "cell_type": "code",
   "execution_count": null,
   "metadata": {},
   "outputs": [],
   "source": [
    "patchSizeList = [50, 100, 150, 200]"
   ]
  },
  {
   "cell_type": "code",
   "execution_count": null,
   "metadata": {},
   "outputs": [],
   "source": [
    "num_patches = []\n",
    "total_num_patches = []\n",
    "\n",
    "for i in patchSizeList:\n",
    "    iline_num_patch = cubeNoiseless.shape[0] // i \n",
    "    xline_num_patch = cubeNoiseless.shape[1] // i \n",
    "    time_num_patch = cubeNoiseless.shape[2] // i\n",
    "\n",
    "    total_num_iline_patches = xline_num_patch*time_num_patch*cubeNoiseless.shape[0]\n",
    "    total_num_xline_patches = iline_num_patch*time_num_patch*cubeNoiseless.shape[1]\n",
    "    total_num_time_patches = iline_num_patch*xline_num_patch*cubeNoiseless.shape[2]\n",
    "\n",
    "    # Concatenate the number of patches\n",
    "    num_patch = [iline_num_patch, xline_num_patch, time_num_patch]\n",
    "    total_num_patch = [total_num_iline_patches, total_num_xline_patches, total_num_time_patches]\n",
    "\n",
    "    # Add to num_patch array\n",
    "    num_patches.append(num_patch)\n",
    "    total_num_patches.append(total_num_patch)\n",
    "\n",
    "    # Convert to dataframe\n",
    "    num_patches_df = pd.DataFrame(num_patches, columns = ['Inline', 'Xline', 'Time'])\n",
    "    total_num_patches_df = pd.DataFrame(total_num_patches, columns = ['Inline', 'Xline', 'Time'])\n"
   ]
  },
  {
   "cell_type": "code",
   "execution_count": null,
   "metadata": {},
   "outputs": [],
   "source": [
    "# Add patchSizeList as a new colomn num_patches_df and total_num_patches_df\n",
    "num_patches_df['Patch Size'] = patchSizeList\n",
    "total_num_patches_df['Patch Size'] = patchSizeList"
   ]
  },
  {
   "cell_type": "code",
   "execution_count": null,
   "metadata": {},
   "outputs": [],
   "source": [
    "# Remove index column\n",
    "num_patches_df = num_patches_df.set_index('Patch Size')\n",
    "total_num_patches_df = total_num_patches_df.set_index('Patch Size')"
   ]
  },
  {
   "cell_type": "code",
   "execution_count": null,
   "metadata": {},
   "outputs": [],
   "source": [
    "num_patches_df"
   ]
  },
  {
   "cell_type": "code",
   "execution_count": null,
   "metadata": {},
   "outputs": [],
   "source": [
    "total_num_patches_df"
   ]
  },
  {
   "cell_type": "markdown",
   "metadata": {},
   "source": [
    "Visualize patches with different sizes"
   ]
  },
  {
   "cell_type": "code",
   "execution_count": null,
   "metadata": {},
   "outputs": [],
   "source": [
    "# Visualize the inline\n",
    "plt.figure(figsize=(20, 6))\n",
    "plt.imshow(cubeNoiseless[iline, :, :].T, cmap = 'gray', aspect='equal', vmin = -amplitude_max, vmax = amplitude_max)\n",
    "plt.xlabel('Xlines', fontsize = 14)\n",
    "plt.ylabel('Time [ms]', fontsize = 14)\n",
    "plt.title('Noiseless | Inline %d' %iline, fontsize = 18)\n",
    "plt.xlim(2500, 1500)\n",
    "plt.ylim(1200, 200)\n",
    "\n",
    "color_frames = ['red', 'lime', 'cyan', 'orange', 'magenta', 'blue']\n",
    "\n",
    "for i in patchSizeList:\n",
    "    rect = patches.Rectangle((2000-(i/2), 850-(i/2)), i, i, linewidth=2.0, edgecolor=color_frames[0], facecolor='none')\n",
    "    plt.gca().add_patch(rect)\n",
    "    color_frames = color_frames[1:]\n",
    "\n",
    "plt.show()"
   ]
  },
  {
   "cell_type": "code",
   "execution_count": null,
   "metadata": {},
   "outputs": [],
   "source": [
    "plt.figure(figsize=(14,8))\n",
    "\n",
    "plt.subplot(2,4,(1, 6))\n",
    "plt.imshow(cubeNoiseless[iline, :, :].T, cmap = 'gray', aspect='equal', vmin = -amplitude_max, vmax = amplitude_max)\n",
    "plt.xlabel('Xlines', fontsize = 14)\n",
    "plt.ylabel('Time [ms]', fontsize = 14)\n",
    "plt.title('Noiseless | Inline %d' %iline, fontsize = 18)\n",
    "plt.xlim(2500, 1500)\n",
    "plt.ylim(1200, 200)\n",
    "\n",
    "color_frames = ['red', 'lime', 'cyan', 'orange']\n",
    "\n",
    "for i in patchSizeList:\n",
    "    rect = patches.Rectangle((2000-(i/2), 850-(i/2)), i, i, linewidth=2.0, edgecolor=color_frames[0], facecolor='none')\n",
    "    plt.gca().add_patch(rect)\n",
    "    color_frames = color_frames[1:]\n",
    "\n",
    "# Add horizontal colorbar\n",
    "cb = plt.colorbar(orientation='horizontal', pad = 0.15, fraction = 0.05)\n",
    "cb.ax.set_title('Amplitude', fontsize=12, weight='bold')\n",
    "cb.ax.tick_params(labelsize=10)\n",
    "\n",
    "\n",
    "plt.subplot(2,4,3)\n",
    "ax = plt.gca()\n",
    "ax.spines['bottom'].set_color('red')\n",
    "ax.spines['top'].set_color('red')\n",
    "ax.spines['right'].set_color('red')\n",
    "ax.spines['left'].set_color('red')\n",
    "ax.spines['bottom'].set_linewidth(2.0)\n",
    "ax.spines['top'].set_linewidth(2.0)\n",
    "ax.spines['right'].set_linewidth(2.0)\n",
    "ax.spines['left'].set_linewidth(2.0)\n",
    "\n",
    "plt.imshow(cubeNoiseless[iline, :, :].T, cmap = 'gray', aspect='equal', vmin = -amplitude_max, vmax = amplitude_max)\n",
    "plt.xlabel('Xlines', fontsize = 14)\n",
    "plt.ylabel('Time [ms]', fontsize = 14)\n",
    "plt.title('Patch Size = 50', fontsize = 18)\n",
    "plt.xlim((2500 - 1500)-(50/2), (2500 - 1500)+(50/2))\n",
    "plt.ylim((1200-200)-(50/2), (1200-200)+(50/2))\n",
    "\n",
    "plt.subplot(2,4,4)\n",
    "ax = plt.gca()\n",
    "ax.spines['bottom'].set_color('lime')\n",
    "ax.spines['top'].set_color('lime')\n",
    "ax.spines['right'].set_color('lime')\n",
    "ax.spines['left'].set_color('lime')\n",
    "\n",
    "ax.spines['bottom'].set_linewidth(2.0)\n",
    "ax.spines['top'].set_linewidth(2.0)\n",
    "ax.spines['right'].set_linewidth(2.0)\n",
    "ax.spines['left'].set_linewidth(2.0)\n",
    "\n",
    "plt.imshow(cubeNoiseless[iline, :, :].T, cmap = 'gray', aspect='equal', vmin = -amplitude_max, vmax = amplitude_max)\n",
    "plt.xlabel('Xlines', fontsize = 14)\n",
    "plt.ylabel('Time [ms]', fontsize = 14)\n",
    "plt.title('Patch Size = 100', fontsize = 18)\n",
    "plt.xlim((2500 - 1500)-(100/2), (2500 - 1500)+(100/2))\n",
    "plt.ylim((1200-200)-(100/2), (1200-200)+(100/2))\n",
    "\n",
    "plt.subplot(2,4,7)\n",
    "ax = plt.gca()\n",
    "ax.spines['bottom'].set_color('cyan')\n",
    "ax.spines['top'].set_color('cyan')\n",
    "ax.spines['right'].set_color('cyan')\n",
    "ax.spines['left'].set_color('cyan')\n",
    "\n",
    "ax.spines['bottom'].set_linewidth(2.0)\n",
    "ax.spines['top'].set_linewidth(2.0)\n",
    "ax.spines['right'].set_linewidth(2.0)\n",
    "ax.spines['left'].set_linewidth(2.0)\n",
    "\n",
    "plt.imshow(cubeNoiseless[iline, :, :].T, cmap = 'gray', aspect='equal', vmin = -amplitude_max, vmax = amplitude_max)\n",
    "plt.xlabel('Xlines', fontsize = 14)\n",
    "plt.ylabel('Time [ms]', fontsize = 14)\n",
    "plt.title('Patch Size = 150', fontsize = 18)\n",
    "plt.xlim((2500 - 1500)-(150/2), (2500 - 1500)+(150/2))\n",
    "plt.ylim((1200-200)-(150/2), (1200-200)+(150/2))\n",
    "\n",
    "plt.subplot(2,4,8)\n",
    "ax = plt.gca()\n",
    "ax.spines['bottom'].set_color('orange')\n",
    "ax.spines['top'].set_color('orange')\n",
    "ax.spines['right'].set_color('orange')\n",
    "ax.spines['left'].set_color('orange')\n",
    "\n",
    "ax.spines['bottom'].set_linewidth(2.0)\n",
    "ax.spines['top'].set_linewidth(2.0)\n",
    "ax.spines['right'].set_linewidth(2.0)\n",
    "ax.spines['left'].set_linewidth(2.0)\n",
    "\n",
    "plt.imshow(cubeNoiseless[iline, :, :].T, cmap = 'gray', aspect='equal', vmin = -amplitude_max, vmax = amplitude_max)\n",
    "plt.xlabel('Xlines', fontsize = 14)\n",
    "plt.ylabel('Time [ms]', fontsize = 14)\n",
    "plt.title('Patch Size = 200', fontsize = 18)\n",
    "plt.xlim((2500 - 1500)-(200/2), (2500 - 1500)+(200/2))\n",
    "plt.ylim((1200-200)-(200/2), (1200-200)+(200/2))\n",
    "\n",
    "plt.tight_layout()\n",
    "plt.show()\n"
   ]
  },
  {
   "cell_type": "markdown",
   "metadata": {},
   "source": [
    "---"
   ]
  },
  {
   "cell_type": "markdown",
   "metadata": {},
   "source": [
    "### Extract Patches"
   ]
  },
  {
   "cell_type": "markdown",
   "metadata": {},
   "source": [
    "#### Inline"
   ]
  },
  {
   "cell_type": "code",
   "execution_count": null,
   "metadata": {},
   "outputs": [],
   "source": [
    "for patchSize in patchSizeList:\n",
    "    xline_num_patch = cubeNoiseless.shape[1] // patchSize\n",
    "    time_num_patch = cubeNoiseless.shape[2] // patchSize\n",
    "\n",
    "    plt.figure(figsize=(20, 6))\n",
    "    plt.imshow(cubeNoiseless[iline, :, :].T, cmap='gray', aspect='equal', vmin=-amplitude_max, vmax=amplitude_max)\n",
    "\n",
    "    for m in range(xline_num_patch):\n",
    "        for n in range(time_num_patch):\n",
    "            i = m * patchSize + patchSize // 2\n",
    "            j = n * patchSize + patchSize // 2\n",
    "            rect = plt.Rectangle((m * patchSize, n * patchSize), patchSize, patchSize, linewidth=0.5, edgecolor='r', facecolor='none')\n",
    "            plt.gca().add_patch(rect)\n",
    "            plt.text(i, j, str(m * time_num_patch + n), color='r', fontsize=6, ha='center', va='center')\n",
    "\n",
    "    plt.xlabel('Xlines', fontsize=14)\n",
    "    plt.ylabel('Time [ms]', fontsize=14)\n",
    "    plt.title(f'Noiseless | Inline {iline} | Patch Size {patchSize}', fontsize=18)    \n",
    "    \n",
    "    # Create directory if it does not exist\n",
    "    directory = '/home/roderickperez/DS_projects/autoencoders/images/Seismic/InforP/patches/noiseless_patch_size_{}/'.format(patchSize)\n",
    "    if not os.path.exists(directory):\n",
    "        os.makedirs(directory)\n",
    "    \n",
    "    plt.savefig(directory + '2D_iline_Noiseless_{}.png'.format(iline))"
   ]
  },
  {
   "cell_type": "markdown",
   "metadata": {},
   "source": [
    "#### Xline"
   ]
  },
  {
   "cell_type": "code",
   "execution_count": null,
   "metadata": {},
   "outputs": [],
   "source": [
    "for patchSize in patchSizeList:\n",
    "    iline_num_patch = cubeNoiseless.shape[0] // patchSize\n",
    "    time_num_patch = cubeNoiseless.shape[2] // patchSize\n",
    "\n",
    "    plt.figure(figsize=(20, 6))\n",
    "    plt.imshow(cubeNoiseless[:, xline, :].T, cmap='gray', aspect='equal', vmin=-amplitude_max, vmax=amplitude_max)\n",
    "\n",
    "    for m in range(iline_num_patch):\n",
    "        for n in range(time_num_patch):\n",
    "            i = m * patchSize + patchSize // 2\n",
    "            j = n * patchSize + patchSize // 2\n",
    "            rect = plt.Rectangle((m * patchSize, n * patchSize), patchSize, patchSize, linewidth=0.5, edgecolor='r', facecolor='none')\n",
    "            plt.gca().add_patch(rect)\n",
    "            plt.text(i, j, str(m * time_num_patch + n), color='r', fontsize=6, ha='center', va='center')\n",
    "\n",
    "    plt.xlabel('Inlines', fontsize=14)\n",
    "    plt.ylabel('Time [ms]', fontsize=14)\n",
    "    plt.title(f'Noiseless | Xline {xline} | Patch Size {patchSize}', fontsize=18)\n",
    "\n",
    "    # Create directory if it does not exist\n",
    "    directory = '/home/roderickperez/DS_projects/autoencoders/images/Seismic/InforP/patches/noiseless_patch_size_{}/'.format(patchSize)\n",
    "    if not os.path.exists(directory):\n",
    "        os.makedirs(directory)\n",
    "\n",
    "    plt.savefig(directory + '2D_xline_Noiseless_{}.png'.format(xline))"
   ]
  },
  {
   "cell_type": "markdown",
   "metadata": {},
   "source": [
    "#### Time"
   ]
  },
  {
   "cell_type": "code",
   "execution_count": null,
   "metadata": {},
   "outputs": [],
   "source": [
    "for patchSize in patchSizeList:\n",
    "    iline_num_patch = cubeNoiseless.shape[0] // patchSize\n",
    "    xline_num_patch = cubeNoiseless.shape[1] // patchSize\n",
    "\n",
    "    plt.figure(figsize=(20, 6))\n",
    "    plt.imshow(cubeNoiseless[:, :, time].T, cmap='gray', aspect='equal', vmin=-amplitude_max, vmax=amplitude_max)\n",
    "\n",
    "    for m in range(iline_num_patch):\n",
    "        for n in range(xline_num_patch):\n",
    "            i = m * patchSize + patchSize // 2\n",
    "            j = n * patchSize + patchSize // 2\n",
    "            rect = plt.Rectangle((m * patchSize, n * patchSize), patchSize, patchSize, linewidth=0.5, edgecolor='r', facecolor='none')\n",
    "            plt.gca().add_patch(rect)\n",
    "            plt.text(i, j, str(m * xline_num_patch + n), color='r', fontsize=6, ha='center', va='center')\n",
    "\n",
    "    plt.xlabel('Inlines', fontsize=14)\n",
    "    plt.ylabel('Xlines', fontsize=14)\n",
    "    plt.title(f'Noiseless | Time {time} | Patch Size {patchSize}', fontsize=18)\n",
    "\n",
    "    # Create directory if it does not exist\n",
    "    directory = '/home/roderickperez/DS_projects/autoencoders/images/Seismic/InforP/patches/noiseless_patch_size_{}/'.format(patchSize)\n",
    "    if not os.path.exists(directory):\n",
    "        os.makedirs(directory)\n",
    "\n",
    "    plt.savefig(directory + '2D_time_Noiseless_{}.png'.format(time))"
   ]
  },
  {
   "cell_type": "markdown",
   "metadata": {},
   "source": [
    "---"
   ]
  },
  {
   "cell_type": "markdown",
   "metadata": {},
   "source": [
    "### Extract Patches"
   ]
  },
  {
   "cell_type": "code",
   "execution_count": null,
   "metadata": {},
   "outputs": [],
   "source": [
    "# Select a random value for the inline, crossline, time slice\n",
    "random_iline = 800 # np.random.randint(0, cubeNoiseless.shape[0])\n",
    "random_xline = 150 # np.random.randint(0, cubeNoiseless.shape[1])\n",
    "random_time = 600 # np.random.randint(0, cubeNoiseless.shape[2])"
   ]
  },
  {
   "cell_type": "markdown",
   "metadata": {},
   "source": [
    "### Noiseless Volume"
   ]
  },
  {
   "cell_type": "markdown",
   "metadata": {},
   "source": [
    "#### Inline"
   ]
  },
  {
   "cell_type": "code",
   "execution_count": null,
   "metadata": {},
   "outputs": [],
   "source": [
    "for patchSize in patchSizeList:\n",
    "    iline_num_patches = cubeNoiseless.shape[0]\n",
    "    xline_num_patches = cubeNoiseless.shape[1] // patchSize\n",
    "    time_num_patches = cubeNoiseless.shape[2] // patchSize\n",
    "\n",
    "    iline_noiseless_patches = {}\n",
    "    count = 0\n",
    "\n",
    "    for i in range(iline_num_patches):\n",
    "        for j in range(xline_num_patches):\n",
    "            for k in range(time_num_patches):\n",
    "                iline_start, iline_end = i, i + 1\n",
    "                xline_start, xline_end = j * patchSize, (j + 1) * patchSize\n",
    "                time_start, time_end = k * patchSize, (k + 1) * patchSize\n",
    "\n",
    "                patch = cubeNoiseless[iline_start:iline_end, xline_start:xline_end, time_start:time_end].squeeze()\n",
    "\n",
    "                iline_noiseless_patches[count] = patch\n",
    "                count += 1\n",
    "    # Construct the directory path\n",
    "    dir_path = f'/home/roderickperez/DS_projects/autoencoders/data/InforPetrol/patches/patches_size_{patchSize}/noiseless/inline_2D_noiseless'\n",
    "            \n",
    "    # Save the individual patches as separate .npy arrays\n",
    "    for i in range(len(iline_noiseless_patches)):\n",
    "        \n",
    "        # Check if directory exists, if not then create it\n",
    "        if not os.path.exists(dir_path):\n",
    "            os.makedirs(dir_path)\n",
    "        \n",
    "        # Save the .npy file in the directory\n",
    "        np.save(dir_path + f'/inline_2D_noiseless_{i}.npy', iline_noiseless_patches[i])"
   ]
  },
  {
   "cell_type": "markdown",
   "metadata": {},
   "source": [
    "#### Xline"
   ]
  },
  {
   "cell_type": "code",
   "execution_count": null,
   "metadata": {},
   "outputs": [],
   "source": [
    "for patchSize in patchSizeList:\n",
    "    iline_num_patches = cubeNoiseless.shape[0] // patchSize\n",
    "    xline_num_patches = cubeNoiseless.shape[1]\n",
    "    time_num_patches = cubeNoiseless.shape[2] // patchSize\n",
    "\n",
    "    xline_noiseless_patches = {}\n",
    "    count = 0\n",
    "\n",
    "    for j in range(xline_num_patches):\n",
    "        for i in range(iline_num_patches):\n",
    "            for k in range(time_num_patches):\n",
    "                iline_start, iline_end = i * patchSize, (i + 1) * patchSize\n",
    "                xline_slice = j\n",
    "                time_start, time_end = k * patchSize, (k + 1) * patchSize\n",
    "\n",
    "                patch = cubeNoiseless[iline_start:iline_end, xline_slice:xline_slice+1, time_start:time_end].squeeze()\n",
    "\n",
    "                xline_noiseless_patches[count] = patch\n",
    "                count += 1\n",
    "    # Construct the directory path\n",
    "    dir_path = f'/home/roderickperez/DS_projects/autoencoders/data/InforPetrol/patches/patches_size_{patchSize}/noiseless/xline_2D_noiseless'\n",
    "        \n",
    "\n",
    "    # Save the individual patches as separate .npy arrays\n",
    "    for i in range(len(xline_noiseless_patches)):\n",
    "        \n",
    "        # Check if directory exists, if not then create it\n",
    "        if not os.path.exists(dir_path):\n",
    "            os.makedirs(dir_path)\n",
    "        \n",
    "        # Save the .npy file in the directory\n",
    "        np.save(dir_path + f'/xline_2D_noiseless_{i}.npy', xline_noiseless_patches[i])\n"
   ]
  },
  {
   "cell_type": "markdown",
   "metadata": {},
   "source": [
    "#### Time"
   ]
  },
  {
   "cell_type": "code",
   "execution_count": null,
   "metadata": {},
   "outputs": [],
   "source": [
    "for patchSize in patchSizeList:\n",
    "    iline_num_patches = cubeNoiseless.shape[0] // patchSize\n",
    "    xline_num_patches = cubeNoiseless.shape[1] // patchSize\n",
    "    time_num_patches = cubeNoiseless.shape[2]\n",
    "\n",
    "    time_noiseless_patches = {}\n",
    "    count = 0\n",
    "\n",
    "    for k in range(time_num_patches):\n",
    "        for i in range(iline_num_patches):\n",
    "            for j in range(xline_num_patches):\n",
    "                iline_start, iline_end = i * patchSize, (i + 1) * patchSize\n",
    "                xline_start, xline_end = j * patchSize, (j + 1) * patchSize\n",
    "                time_slice = k\n",
    "\n",
    "                patch = cubeNoiseless[iline_start:iline_end, xline_start:xline_end, time_slice:time_slice+1].squeeze()\n",
    "\n",
    "                time_noiseless_patches[count] = patch\n",
    "                count += 1\n",
    "    # Construct the directory path\n",
    "    dir_path = f'/home/roderickperez/Documents/DS_Projects_Ubuntu/Denoising_Seismic_AutoEncoder/data/InforPetrol/patches/patches_size_{patchSize}/noiseless/time_2D_noiseless'\n",
    "        \n",
    "    # Save the individual patches as separate .npy arrays\n",
    "    for i in range(len(time_noiseless_patches)):\n",
    "        \n",
    "        # Check if directory exists, if not then create it\n",
    "        if not os.path.exists(dir_path):\n",
    "            os.makedirs(dir_path)\n",
    "        \n",
    "        # Save the .npy file in the directory\n",
    "        np.save(dir_path + f'/time_2D_noiseless_{i}.npy', time_noiseless_patches[i])"
   ]
  },
  {
   "cell_type": "markdown",
   "metadata": {},
   "source": [
    "---"
   ]
  },
  {
   "cell_type": "markdown",
   "metadata": {},
   "source": [
    "---"
   ]
  }
 ],
 "metadata": {
  "kernelspec": {
   "display_name": "autoEncoders",
   "language": "python",
   "name": "python3"
  },
  "language_info": {
   "codemirror_mode": {
    "name": "ipython",
    "version": 3
   },
   "file_extension": ".py",
   "mimetype": "text/x-python",
   "name": "python",
   "nbconvert_exporter": "python",
   "pygments_lexer": "ipython3",
   "version": "3.10.12"
  },
  "orig_nbformat": 4
 },
 "nbformat": 4,
 "nbformat_minor": 2
}
